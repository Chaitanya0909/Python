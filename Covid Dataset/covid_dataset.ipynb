{
 "cells": [
  {
   "cell_type": "markdown",
   "metadata": {},
   "source": [
    "# Questions\n",
    "1. Read all the three datasets with dataframe names as:\n",
    "        covid_dataset\n",
    "        covid_vaccine_statewise\n",
    "        covid_testing_statewise\n",
    "\n",
    "    \n",
    "    \n",
    "2. Do a small descriptive analysis for each dataset. Get all the distribution for central tendency, skewness(plots), kurtosis and give insights.\n",
    "3. How many Quantitative and Qualitative variables are there in each dataset.\n",
    "4. Split the Quantative/Qualitative into its sub categories.\n",
    "5. Do a state wise analysis and plot top 10 states having most number of positive cases in the month of April,2021.\n",
    "6. Get 'Confirmed','Cured','Deaths' and 'Death Percentage' till now for all the data.\n",
    "7. Top 10 states with highest number of Confirmed cases in the first wave ie 2020 and second wave 2021.\n",
    "8. Which of the above states were worsely affected in first and second wave both.\n",
    "9. Top 10 states with least number of Cured cases.\n",
    "10. Top 10 states with highest number of Deaths from Feb,2021 to April,2021\n",
    "11. Top 10 states with highest of Death percentage in October,2020\n",
    "12. Give Monthwise and yearwise record of \n",
    "        Confirmed \t\n",
    "        Cured \t\n",
    "        Deaths \t\n",
    "        Death_percentage\n",
    "13. Plot the monthwise data and track increase in cases month by month.\n",
    "14. Which state had the highes positive percentage in April, 2021, Jan,2021 and August,2020.\n",
    "15. Top 10 states with highest number of Negative cases\n",
    "16. Total Individuals Registering for vaccines since Jan,2021.\n",
    "17. Male vs Female vaccinated in India till now. Which is more.\n",
    "18. Is positivity rate high in Males than females in 2021? Is that same trend there in 2020.\n",
    "19. Which vaccines is popular in Males,Females and Transgeneders.\n",
    "20. Registered vs actual vaccination doses admnistered till now, what are the top 10 states?\n",
    "21. How many % of people are left to get second dosage of vaccine.\n",
    "22. What is the trend that you can see in delhi since Jan, 2021?\n",
    "        Positivity rate\n",
    "        Total Deaths\n",
    "        Vaccination\n",
    "23. Plot daily number of confirmed cases for Delhi in 2021\n",
    "        "
   ]
  },
  {
   "cell_type": "code",
   "execution_count": 1,
   "metadata": {},
   "outputs": [],
   "source": [
    "# importing libraries\n",
    "\n",
    "import numpy as np\n",
    "import pandas as pd\n",
    "import seaborn as sns\n",
    "import matplotlib.pyplot as plt\n",
    "\n",
    "#magicline function for jupiter\n",
    "%matplotlib inline\n",
    "\n",
    "#importing warnings\n",
    "import warnings\n",
    "warnings.filterwarnings('ignore')"
   ]
  },
  {
   "cell_type": "markdown",
   "metadata": {},
   "source": [
    "# 1. Read all the three datasets with dataframe names as:\n",
    " covid_dataset,\n",
    " covid_vaccine_statewise,\n",
    " covid_testing_statewise"
   ]
  },
  {
   "cell_type": "code",
   "execution_count": 2,
   "metadata": {},
   "outputs": [],
   "source": [
    "# Data Loading \n",
    "covid_dataset=pd.read_csv(r'D:\\Downloads\\covid_19_india.csv')"
   ]
  },
  {
   "cell_type": "code",
   "execution_count": 3,
   "metadata": {},
   "outputs": [],
   "source": [
    "# Data Loading\n",
    "covid_vaccine_statewise=pd.read_csv(r'D:\\Downloads\\covid_vaccine_statewise.csv')"
   ]
  },
  {
   "cell_type": "code",
   "execution_count": 4,
   "metadata": {},
   "outputs": [],
   "source": [
    "# Data loading\n",
    "covid_testing_statewise=pd.read_csv(r'D:\\Downloads\\StatewiseTestingDetails.csv')"
   ]
  },
  {
   "cell_type": "code",
   "execution_count": 5,
   "metadata": {},
   "outputs": [
    {
     "data": {
      "text/html": [
       "<div>\n",
       "<style scoped>\n",
       "    .dataframe tbody tr th:only-of-type {\n",
       "        vertical-align: middle;\n",
       "    }\n",
       "\n",
       "    .dataframe tbody tr th {\n",
       "        vertical-align: top;\n",
       "    }\n",
       "\n",
       "    .dataframe thead th {\n",
       "        text-align: right;\n",
       "    }\n",
       "</style>\n",
       "<table border=\"1\" class=\"dataframe\">\n",
       "  <thead>\n",
       "    <tr style=\"text-align: right;\">\n",
       "      <th></th>\n",
       "      <th>Sno</th>\n",
       "      <th>Date</th>\n",
       "      <th>Time</th>\n",
       "      <th>State/UnionTerritory</th>\n",
       "      <th>ConfirmedIndianNational</th>\n",
       "      <th>ConfirmedForeignNational</th>\n",
       "      <th>Cured</th>\n",
       "      <th>Deaths</th>\n",
       "      <th>Confirmed</th>\n",
       "      <th>month</th>\n",
       "      <th>year</th>\n",
       "      <th>day</th>\n",
       "      <th>date</th>\n",
       "      <th>quarter</th>\n",
       "    </tr>\n",
       "  </thead>\n",
       "  <tbody>\n",
       "    <tr>\n",
       "      <th>0</th>\n",
       "      <td>1</td>\n",
       "      <td>2020-01-30</td>\n",
       "      <td>6:00 PM</td>\n",
       "      <td>Kerala</td>\n",
       "      <td>1</td>\n",
       "      <td>0</td>\n",
       "      <td>0</td>\n",
       "      <td>0</td>\n",
       "      <td>1</td>\n",
       "      <td>1</td>\n",
       "      <td>2020</td>\n",
       "      <td>Thursday</td>\n",
       "      <td>30</td>\n",
       "      <td>1</td>\n",
       "    </tr>\n",
       "    <tr>\n",
       "      <th>1</th>\n",
       "      <td>2</td>\n",
       "      <td>2020-01-31</td>\n",
       "      <td>6:00 PM</td>\n",
       "      <td>Kerala</td>\n",
       "      <td>1</td>\n",
       "      <td>0</td>\n",
       "      <td>0</td>\n",
       "      <td>0</td>\n",
       "      <td>1</td>\n",
       "      <td>1</td>\n",
       "      <td>2020</td>\n",
       "      <td>Friday</td>\n",
       "      <td>31</td>\n",
       "      <td>1</td>\n",
       "    </tr>\n",
       "    <tr>\n",
       "      <th>2</th>\n",
       "      <td>3</td>\n",
       "      <td>2020-02-01</td>\n",
       "      <td>6:00 PM</td>\n",
       "      <td>Kerala</td>\n",
       "      <td>2</td>\n",
       "      <td>0</td>\n",
       "      <td>0</td>\n",
       "      <td>0</td>\n",
       "      <td>2</td>\n",
       "      <td>2</td>\n",
       "      <td>2020</td>\n",
       "      <td>Saturday</td>\n",
       "      <td>1</td>\n",
       "      <td>1</td>\n",
       "    </tr>\n",
       "  </tbody>\n",
       "</table>\n",
       "</div>"
      ],
      "text/plain": [
       "   Sno       Date     Time State/UnionTerritory ConfirmedIndianNational  \\\n",
       "0    1 2020-01-30  6:00 PM               Kerala                       1   \n",
       "1    2 2020-01-31  6:00 PM               Kerala                       1   \n",
       "2    3 2020-02-01  6:00 PM               Kerala                       2   \n",
       "\n",
       "  ConfirmedForeignNational  Cured  Deaths  Confirmed  month  year       day  \\\n",
       "0                        0      0       0          1      1  2020  Thursday   \n",
       "1                        0      0       0          1      1  2020    Friday   \n",
       "2                        0      0       0          2      2  2020  Saturday   \n",
       "\n",
       "   date  quarter  \n",
       "0    30        1  \n",
       "1    31        1  \n",
       "2     1        1  "
      ]
     },
     "execution_count": 5,
     "metadata": {},
     "output_type": "execute_result"
    }
   ],
   "source": [
    "# Converting Date column covid_dataset to datetime format and than extracting month name, year, day name, date and quarter\n",
    "\n",
    "covid_dataset['Date']=pd.to_datetime(covid_dataset['Date'])\n",
    "covid_dataset['month']=covid_dataset['Date'].dt.month\n",
    "covid_dataset['year']=covid_dataset['Date'].dt.year\n",
    "covid_dataset['day']=covid_dataset['Date'].dt.day_name()\n",
    "covid_dataset['date']=covid_dataset['Date'].dt.day\n",
    "covid_dataset['quarter']=covid_dataset['Date'].dt.quarter\n",
    "covid_dataset.head(3)"
   ]
  },
  {
   "cell_type": "code",
   "execution_count": 6,
   "metadata": {},
   "outputs": [
    {
     "data": {
      "text/html": [
       "<div>\n",
       "<style scoped>\n",
       "    .dataframe tbody tr th:only-of-type {\n",
       "        vertical-align: middle;\n",
       "    }\n",
       "\n",
       "    .dataframe tbody tr th {\n",
       "        vertical-align: top;\n",
       "    }\n",
       "\n",
       "    .dataframe thead th {\n",
       "        text-align: right;\n",
       "    }\n",
       "</style>\n",
       "<table border=\"1\" class=\"dataframe\">\n",
       "  <thead>\n",
       "    <tr style=\"text-align: right;\">\n",
       "      <th></th>\n",
       "      <th>Date</th>\n",
       "      <th>State</th>\n",
       "      <th>TotalSamples</th>\n",
       "      <th>Negative</th>\n",
       "      <th>Positive</th>\n",
       "      <th>month</th>\n",
       "      <th>year</th>\n",
       "      <th>day</th>\n",
       "      <th>date</th>\n",
       "      <th>quarter</th>\n",
       "    </tr>\n",
       "  </thead>\n",
       "  <tbody>\n",
       "    <tr>\n",
       "      <th>0</th>\n",
       "      <td>2020-04-17</td>\n",
       "      <td>Andaman and Nicobar Islands</td>\n",
       "      <td>1403</td>\n",
       "      <td>1210.0</td>\n",
       "      <td>12.0</td>\n",
       "      <td>4</td>\n",
       "      <td>2020</td>\n",
       "      <td>Friday</td>\n",
       "      <td>17</td>\n",
       "      <td>2</td>\n",
       "    </tr>\n",
       "    <tr>\n",
       "      <th>1</th>\n",
       "      <td>2020-04-24</td>\n",
       "      <td>Andaman and Nicobar Islands</td>\n",
       "      <td>2679</td>\n",
       "      <td>NaN</td>\n",
       "      <td>27.0</td>\n",
       "      <td>4</td>\n",
       "      <td>2020</td>\n",
       "      <td>Friday</td>\n",
       "      <td>24</td>\n",
       "      <td>2</td>\n",
       "    </tr>\n",
       "    <tr>\n",
       "      <th>2</th>\n",
       "      <td>2020-04-27</td>\n",
       "      <td>Andaman and Nicobar Islands</td>\n",
       "      <td>2848</td>\n",
       "      <td>NaN</td>\n",
       "      <td>33.0</td>\n",
       "      <td>4</td>\n",
       "      <td>2020</td>\n",
       "      <td>Monday</td>\n",
       "      <td>27</td>\n",
       "      <td>2</td>\n",
       "    </tr>\n",
       "  </tbody>\n",
       "</table>\n",
       "</div>"
      ],
      "text/plain": [
       "        Date                        State  TotalSamples  Negative  Positive  \\\n",
       "0 2020-04-17  Andaman and Nicobar Islands          1403    1210.0      12.0   \n",
       "1 2020-04-24  Andaman and Nicobar Islands          2679       NaN      27.0   \n",
       "2 2020-04-27  Andaman and Nicobar Islands          2848       NaN      33.0   \n",
       "\n",
       "   month  year     day  date  quarter  \n",
       "0      4  2020  Friday    17        2  \n",
       "1      4  2020  Friday    24        2  \n",
       "2      4  2020  Monday    27        2  "
      ]
     },
     "execution_count": 6,
     "metadata": {},
     "output_type": "execute_result"
    }
   ],
   "source": [
    "# Converting Date column covid_testing_statewise to datetime format and than extracting month name, year, day name, date and quarter\n",
    "\n",
    "covid_testing_statewise['Date']=pd.to_datetime(covid_testing_statewise['Date'])\n",
    "covid_testing_statewise['month']=covid_testing_statewise['Date'].dt.month\n",
    "covid_testing_statewise['year']=covid_testing_statewise['Date'].dt.year\n",
    "covid_testing_statewise['day']=covid_testing_statewise['Date'].dt.day_name()\n",
    "covid_testing_statewise['date']=covid_testing_statewise['Date'].dt.day\n",
    "covid_testing_statewise['quarter']=covid_testing_statewise['Date'].dt.quarter\n",
    "covid_testing_statewise.head(3)"
   ]
  },
  {
   "cell_type": "code",
   "execution_count": 7,
   "metadata": {},
   "outputs": [
    {
     "data": {
      "text/plain": [
       "Index(['Updated On', 'State', 'Total Individuals Registered',\n",
       "       'Total Sessions Conducted', 'Total Sites ', 'First Dose Administered',\n",
       "       'Second Dose Administered', 'Male(Individuals Vaccinated)',\n",
       "       'Female(Individuals Vaccinated)', 'Transgender(Individuals Vaccinated)',\n",
       "       'Total Covaxin Administered', 'Total CoviShield Administered',\n",
       "       'Total Individuals Vaccinated', 'Total Doses Administered',\n",
       "       'Unnamed: 14', 'Unnamed: 15', 'Unnamed: 16'],\n",
       "      dtype='object')"
      ]
     },
     "execution_count": 7,
     "metadata": {},
     "output_type": "execute_result"
    }
   ],
   "source": [
    "# checking column name of covid_vaccine_statewise\n",
    "\n",
    "covid_vaccine_statewise.keys()"
   ]
  },
  {
   "cell_type": "code",
   "execution_count": 8,
   "metadata": {},
   "outputs": [],
   "source": [
    "# renaming column name to Date\n",
    "covid_vaccine_statewise.rename(columns={'Updated On':'Date'},inplace=True)"
   ]
  },
  {
   "cell_type": "code",
   "execution_count": 9,
   "metadata": {},
   "outputs": [
    {
     "data": {
      "text/html": [
       "<div>\n",
       "<style scoped>\n",
       "    .dataframe tbody tr th:only-of-type {\n",
       "        vertical-align: middle;\n",
       "    }\n",
       "\n",
       "    .dataframe tbody tr th {\n",
       "        vertical-align: top;\n",
       "    }\n",
       "\n",
       "    .dataframe thead th {\n",
       "        text-align: right;\n",
       "    }\n",
       "</style>\n",
       "<table border=\"1\" class=\"dataframe\">\n",
       "  <thead>\n",
       "    <tr style=\"text-align: right;\">\n",
       "      <th></th>\n",
       "      <th>Date</th>\n",
       "      <th>State</th>\n",
       "      <th>Total Individuals Registered</th>\n",
       "      <th>Total Sessions Conducted</th>\n",
       "      <th>Total Sites</th>\n",
       "      <th>First Dose Administered</th>\n",
       "      <th>Second Dose Administered</th>\n",
       "      <th>Male(Individuals Vaccinated)</th>\n",
       "      <th>Female(Individuals Vaccinated)</th>\n",
       "      <th>Transgender(Individuals Vaccinated)</th>\n",
       "      <th>...</th>\n",
       "      <th>Total Individuals Vaccinated</th>\n",
       "      <th>Total Doses Administered</th>\n",
       "      <th>Unnamed: 14</th>\n",
       "      <th>Unnamed: 15</th>\n",
       "      <th>Unnamed: 16</th>\n",
       "      <th>month</th>\n",
       "      <th>year</th>\n",
       "      <th>day</th>\n",
       "      <th>date</th>\n",
       "      <th>quarter</th>\n",
       "    </tr>\n",
       "  </thead>\n",
       "  <tbody>\n",
       "    <tr>\n",
       "      <th>0</th>\n",
       "      <td>2021-01-16</td>\n",
       "      <td>India</td>\n",
       "      <td>6943622.0</td>\n",
       "      <td>3455.0</td>\n",
       "      <td>2957.0</td>\n",
       "      <td>48276.0</td>\n",
       "      <td>0.0</td>\n",
       "      <td>23757.0</td>\n",
       "      <td>24517.0</td>\n",
       "      <td>2.0</td>\n",
       "      <td>...</td>\n",
       "      <td>48276.0</td>\n",
       "      <td>48276</td>\n",
       "      <td>NaN</td>\n",
       "      <td>NaN</td>\n",
       "      <td>NaN</td>\n",
       "      <td>1</td>\n",
       "      <td>2021</td>\n",
       "      <td>Saturday</td>\n",
       "      <td>16</td>\n",
       "      <td>1</td>\n",
       "    </tr>\n",
       "    <tr>\n",
       "      <th>1</th>\n",
       "      <td>2021-01-17</td>\n",
       "      <td>India</td>\n",
       "      <td>7119567.0</td>\n",
       "      <td>8532.0</td>\n",
       "      <td>4954.0</td>\n",
       "      <td>58604.0</td>\n",
       "      <td>0.0</td>\n",
       "      <td>27348.0</td>\n",
       "      <td>31252.0</td>\n",
       "      <td>4.0</td>\n",
       "      <td>...</td>\n",
       "      <td>58604.0</td>\n",
       "      <td>58604</td>\n",
       "      <td>NaN</td>\n",
       "      <td>NaN</td>\n",
       "      <td>NaN</td>\n",
       "      <td>1</td>\n",
       "      <td>2021</td>\n",
       "      <td>Sunday</td>\n",
       "      <td>17</td>\n",
       "      <td>1</td>\n",
       "    </tr>\n",
       "    <tr>\n",
       "      <th>2</th>\n",
       "      <td>2021-01-18</td>\n",
       "      <td>India</td>\n",
       "      <td>7150780.0</td>\n",
       "      <td>13611.0</td>\n",
       "      <td>6583.0</td>\n",
       "      <td>99449.0</td>\n",
       "      <td>0.0</td>\n",
       "      <td>41361.0</td>\n",
       "      <td>58083.0</td>\n",
       "      <td>5.0</td>\n",
       "      <td>...</td>\n",
       "      <td>99449.0</td>\n",
       "      <td>99449</td>\n",
       "      <td>NaN</td>\n",
       "      <td>NaN</td>\n",
       "      <td>NaN</td>\n",
       "      <td>1</td>\n",
       "      <td>2021</td>\n",
       "      <td>Monday</td>\n",
       "      <td>18</td>\n",
       "      <td>1</td>\n",
       "    </tr>\n",
       "  </tbody>\n",
       "</table>\n",
       "<p>3 rows × 22 columns</p>\n",
       "</div>"
      ],
      "text/plain": [
       "        Date  State  Total Individuals Registered  Total Sessions Conducted  \\\n",
       "0 2021-01-16  India                     6943622.0                    3455.0   \n",
       "1 2021-01-17  India                     7119567.0                    8532.0   \n",
       "2 2021-01-18  India                     7150780.0                   13611.0   \n",
       "\n",
       "   Total Sites   First Dose Administered  Second Dose Administered  \\\n",
       "0        2957.0                  48276.0                       0.0   \n",
       "1        4954.0                  58604.0                       0.0   \n",
       "2        6583.0                  99449.0                       0.0   \n",
       "\n",
       "   Male(Individuals Vaccinated)  Female(Individuals Vaccinated)  \\\n",
       "0                       23757.0                         24517.0   \n",
       "1                       27348.0                         31252.0   \n",
       "2                       41361.0                         58083.0   \n",
       "\n",
       "   Transgender(Individuals Vaccinated)  ...  Total Individuals Vaccinated  \\\n",
       "0                                  2.0  ...                       48276.0   \n",
       "1                                  4.0  ...                       58604.0   \n",
       "2                                  5.0  ...                       99449.0   \n",
       "\n",
       "   Total Doses Administered  Unnamed: 14  Unnamed: 15  Unnamed: 16  month  \\\n",
       "0                     48276          NaN          NaN          NaN      1   \n",
       "1                     58604          NaN          NaN          NaN      1   \n",
       "2                     99449          NaN          NaN          NaN      1   \n",
       "\n",
       "   year       day  date quarter  \n",
       "0  2021  Saturday    16       1  \n",
       "1  2021    Sunday    17       1  \n",
       "2  2021    Monday    18       1  \n",
       "\n",
       "[3 rows x 22 columns]"
      ]
     },
     "execution_count": 9,
     "metadata": {},
     "output_type": "execute_result"
    }
   ],
   "source": [
    "# # Converting Date column covid_vaccine_statewise to datetime format and than extracting month name, year, day name, date and quarter\n",
    "covid_vaccine_statewise['Date']=pd.to_datetime(covid_vaccine_statewise['Date'])\n",
    "covid_vaccine_statewise['month']=covid_vaccine_statewise['Date'].dt.month\n",
    "covid_vaccine_statewise['year']=covid_vaccine_statewise['Date'].dt.year\n",
    "covid_vaccine_statewise['day']=covid_vaccine_statewise['Date'].dt.day_name()\n",
    "covid_vaccine_statewise['date']=covid_vaccine_statewise['Date'].dt.day\n",
    "covid_vaccine_statewise['quarter']=covid_vaccine_statewise['Date'].dt.quarter\n",
    "covid_vaccine_statewise.head(3)"
   ]
  },
  {
   "cell_type": "code",
   "execution_count": 10,
   "metadata": {},
   "outputs": [
    {
     "name": "stdout",
     "output_type": "stream",
     "text": [
      "<class 'pandas.core.frame.DataFrame'>\n",
      "RangeIndex: 12676 entries, 0 to 12675\n",
      "Data columns (total 10 columns):\n",
      " #   Column        Non-Null Count  Dtype         \n",
      "---  ------        --------------  -----         \n",
      " 0   Date          12676 non-null  datetime64[ns]\n",
      " 1   State         12676 non-null  object        \n",
      " 2   TotalSamples  12676 non-null  int64         \n",
      " 3   Negative      5881 non-null   float64       \n",
      " 4   Positive      5381 non-null   float64       \n",
      " 5   month         12676 non-null  int64         \n",
      " 6   year          12676 non-null  int64         \n",
      " 7   day           12676 non-null  object        \n",
      " 8   date          12676 non-null  int64         \n",
      " 9   quarter       12676 non-null  int64         \n",
      "dtypes: datetime64[ns](1), float64(2), int64(5), object(2)\n",
      "memory usage: 990.4+ KB\n"
     ]
    }
   ],
   "source": [
    "# checking Total rows , null values and datatype\n",
    "covid_testing_statewise.info()"
   ]
  },
  {
   "cell_type": "code",
   "execution_count": 11,
   "metadata": {},
   "outputs": [],
   "source": [
    "# null treatment of negative (total_sample - positive)\n",
    "\n",
    "m=covid_testing_statewise[(covid_testing_statewise['Negative'].isna()==True) & (covid_testing_statewise['Positive'].isna()==False)]\n",
    "m['TotalSamples']-m['Positive']\n",
    "covid_testing_statewise['Negative'][(covid_testing_statewise['Negative'].isna()==True) & (covid_testing_statewise['Positive'].isna()==False)]=m['TotalSamples']-m['Positive']"
   ]
  },
  {
   "cell_type": "code",
   "execution_count": 12,
   "metadata": {},
   "outputs": [],
   "source": [
    "# null treatment of positive(total_sample - negative)\n",
    "\n",
    "m=covid_testing_statewise[(covid_testing_statewise['Positive'].isna()==True) & (covid_testing_statewise['Negative'].isna()==False)]\n",
    "m['TotalSamples']-m['Negative']\n",
    "covid_testing_statewise['Positive'][(covid_testing_statewise['Positive'].isna()==True) & (covid_testing_statewise['Negative'].isna()==False)]=m['TotalSamples']-m['Negative']"
   ]
  },
  {
   "cell_type": "code",
   "execution_count": 13,
   "metadata": {},
   "outputs": [
    {
     "name": "stdout",
     "output_type": "stream",
     "text": [
      "<class 'pandas.core.frame.DataFrame'>\n",
      "RangeIndex: 12676 entries, 0 to 12675\n",
      "Data columns (total 10 columns):\n",
      " #   Column        Non-Null Count  Dtype         \n",
      "---  ------        --------------  -----         \n",
      " 0   Date          12676 non-null  datetime64[ns]\n",
      " 1   State         12676 non-null  object        \n",
      " 2   TotalSamples  12676 non-null  int64         \n",
      " 3   Negative      7891 non-null   float64       \n",
      " 4   Positive      7891 non-null   float64       \n",
      " 5   month         12676 non-null  int64         \n",
      " 6   year          12676 non-null  int64         \n",
      " 7   day           12676 non-null  object        \n",
      " 8   date          12676 non-null  int64         \n",
      " 9   quarter       12676 non-null  int64         \n",
      "dtypes: datetime64[ns](1), float64(2), int64(5), object(2)\n",
      "memory usage: 990.4+ KB\n"
     ]
    }
   ],
   "source": [
    "# checking remaning null\n",
    "covid_testing_statewise.info()"
   ]
  },
  {
   "cell_type": "code",
   "execution_count": 14,
   "metadata": {},
   "outputs": [],
   "source": [
    "# null treatment of negative based on statewise mean\n",
    "\n",
    "for i in covid_testing_statewise['State'].unique():\n",
    "    z=covid_testing_statewise[covid_testing_statewise['State']==i]\n",
    "    z=z[z['Negative'].isna()==False]\n",
    "    s=z['Negative'].mean()\n",
    "    \n",
    "    covid_testing_statewise['Negative'][(covid_testing_statewise['State']==i) & (covid_testing_statewise['Negative'].isna()==True)]=s"
   ]
  },
  {
   "cell_type": "code",
   "execution_count": 15,
   "metadata": {},
   "outputs": [],
   "source": [
    "#  null treatment of positive based on statewise mean \n",
    "\n",
    "for i in covid_testing_statewise['State'].unique():\n",
    "    z=covid_testing_statewise[covid_testing_statewise['State']==i]\n",
    "    z=z[z['Positive'].isna()==False]\n",
    "    s=z['Positive'].mean()\n",
    "    \n",
    "    covid_testing_statewise['Positive'][(covid_testing_statewise['State']==i) & (covid_testing_statewise['Positive'].isna()==True)]=s"
   ]
  },
  {
   "cell_type": "code",
   "execution_count": 16,
   "metadata": {},
   "outputs": [
    {
     "name": "stdout",
     "output_type": "stream",
     "text": [
      "<class 'pandas.core.frame.DataFrame'>\n",
      "RangeIndex: 12676 entries, 0 to 12675\n",
      "Data columns (total 10 columns):\n",
      " #   Column        Non-Null Count  Dtype         \n",
      "---  ------        --------------  -----         \n",
      " 0   Date          12676 non-null  datetime64[ns]\n",
      " 1   State         12676 non-null  object        \n",
      " 2   TotalSamples  12676 non-null  int64         \n",
      " 3   Negative      12586 non-null  float64       \n",
      " 4   Positive      12586 non-null  float64       \n",
      " 5   month         12676 non-null  int64         \n",
      " 6   year          12676 non-null  int64         \n",
      " 7   day           12676 non-null  object        \n",
      " 8   date          12676 non-null  int64         \n",
      " 9   quarter       12676 non-null  int64         \n",
      "dtypes: datetime64[ns](1), float64(2), int64(5), object(2)\n",
      "memory usage: 990.4+ KB\n"
     ]
    }
   ],
   "source": [
    "# checking remaining null \n",
    "\n",
    "covid_testing_statewise.info()"
   ]
  },
  {
   "cell_type": "code",
   "execution_count": 17,
   "metadata": {},
   "outputs": [],
   "source": [
    "# null treatment (dividing total_sample/2 into negative and postive )\n",
    "covid_testing_statewise['Negative'][covid_testing_statewise['Negative'].isna()==True]=covid_testing_statewise[covid_testing_statewise['Negative'].isna()==True]['TotalSamples']/2\n",
    "\n",
    "covid_testing_statewise['Positive'][covid_testing_statewise['Positive'].isna()==True]=covid_testing_statewise[covid_testing_statewise['Positive'].isna()==True]['TotalSamples']/2"
   ]
  },
  {
   "cell_type": "code",
   "execution_count": 18,
   "metadata": {},
   "outputs": [
    {
     "name": "stdout",
     "output_type": "stream",
     "text": [
      "<class 'pandas.core.frame.DataFrame'>\n",
      "RangeIndex: 12676 entries, 0 to 12675\n",
      "Data columns (total 10 columns):\n",
      " #   Column        Non-Null Count  Dtype         \n",
      "---  ------        --------------  -----         \n",
      " 0   Date          12676 non-null  datetime64[ns]\n",
      " 1   State         12676 non-null  object        \n",
      " 2   TotalSamples  12676 non-null  int64         \n",
      " 3   Negative      12676 non-null  float64       \n",
      " 4   Positive      12676 non-null  float64       \n",
      " 5   month         12676 non-null  int64         \n",
      " 6   year          12676 non-null  int64         \n",
      " 7   day           12676 non-null  object        \n",
      " 8   date          12676 non-null  int64         \n",
      " 9   quarter       12676 non-null  int64         \n",
      "dtypes: datetime64[ns](1), float64(2), int64(5), object(2)\n",
      "memory usage: 990.4+ KB\n"
     ]
    }
   ],
   "source": [
    "# checking null\n",
    "\n",
    "covid_testing_statewise.info()"
   ]
  },
  {
   "cell_type": "markdown",
   "metadata": {},
   "source": [
    "No Null value in covid_testing_statewise"
   ]
  },
  {
   "cell_type": "code",
   "execution_count": 19,
   "metadata": {},
   "outputs": [
    {
     "name": "stdout",
     "output_type": "stream",
     "text": [
      "<class 'pandas.core.frame.DataFrame'>\n",
      "RangeIndex: 14330 entries, 0 to 14329\n",
      "Data columns (total 14 columns):\n",
      " #   Column                    Non-Null Count  Dtype         \n",
      "---  ------                    --------------  -----         \n",
      " 0   Sno                       14330 non-null  int64         \n",
      " 1   Date                      14330 non-null  datetime64[ns]\n",
      " 2   Time                      14330 non-null  object        \n",
      " 3   State/UnionTerritory      14330 non-null  object        \n",
      " 4   ConfirmedIndianNational   14330 non-null  object        \n",
      " 5   ConfirmedForeignNational  14330 non-null  object        \n",
      " 6   Cured                     14330 non-null  int64         \n",
      " 7   Deaths                    14330 non-null  int64         \n",
      " 8   Confirmed                 14330 non-null  int64         \n",
      " 9   month                     14330 non-null  int64         \n",
      " 10  year                      14330 non-null  int64         \n",
      " 11  day                       14330 non-null  object        \n",
      " 12  date                      14330 non-null  int64         \n",
      " 13  quarter                   14330 non-null  int64         \n",
      "dtypes: datetime64[ns](1), int64(8), object(5)\n",
      "memory usage: 1.5+ MB\n"
     ]
    }
   ],
   "source": [
    "# checking total rows, null , datatype\n",
    "\n",
    "covid_dataset.info()"
   ]
  },
  {
   "cell_type": "markdown",
   "metadata": {},
   "source": [
    "No Null value in covid_dataset"
   ]
  },
  {
   "cell_type": "code",
   "execution_count": 20,
   "metadata": {},
   "outputs": [
    {
     "name": "stdout",
     "output_type": "stream",
     "text": [
      "<class 'pandas.core.frame.DataFrame'>\n",
      "RangeIndex: 3774 entries, 0 to 3773\n",
      "Data columns (total 22 columns):\n",
      " #   Column                               Non-Null Count  Dtype         \n",
      "---  ------                               --------------  -----         \n",
      " 0   Date                                 3774 non-null   datetime64[ns]\n",
      " 1   State                                3774 non-null   object        \n",
      " 2   Total Individuals Registered         3766 non-null   float64       \n",
      " 3   Total Sessions Conducted             3767 non-null   float64       \n",
      " 4   Total Sites                          3767 non-null   float64       \n",
      " 5   First Dose Administered              3767 non-null   float64       \n",
      " 6   Second Dose Administered             3767 non-null   float64       \n",
      " 7   Male(Individuals Vaccinated)         3767 non-null   float64       \n",
      " 8   Female(Individuals Vaccinated)       3767 non-null   float64       \n",
      " 9   Transgender(Individuals Vaccinated)  3767 non-null   float64       \n",
      " 10  Total Covaxin Administered           3767 non-null   float64       \n",
      " 11  Total CoviShield Administered        3767 non-null   float64       \n",
      " 12  Total Individuals Vaccinated         3767 non-null   float64       \n",
      " 13  Total Doses Administered             3774 non-null   int64         \n",
      " 14  Unnamed: 14                          1 non-null      float64       \n",
      " 15  Unnamed: 15                          1 non-null      float64       \n",
      " 16  Unnamed: 16                          1 non-null      float64       \n",
      " 17  month                                3774 non-null   int64         \n",
      " 18  year                                 3774 non-null   int64         \n",
      " 19  day                                  3774 non-null   object        \n",
      " 20  date                                 3774 non-null   int64         \n",
      " 21  quarter                              3774 non-null   int64         \n",
      "dtypes: datetime64[ns](1), float64(14), int64(5), object(2)\n",
      "memory usage: 648.8+ KB\n"
     ]
    }
   ],
   "source": [
    "# checking null, total rows, datatype\n",
    "\n",
    "covid_vaccine_statewise.info()"
   ]
  },
  {
   "cell_type": "code",
   "execution_count": 21,
   "metadata": {},
   "outputs": [],
   "source": [
    "# dropping columns \n",
    "covid_vaccine_statewise.drop(columns=['Unnamed: 14','Unnamed: 15','Unnamed: 16'], inplace=True)"
   ]
  },
  {
   "cell_type": "code",
   "execution_count": 22,
   "metadata": {},
   "outputs": [
    {
     "name": "stdout",
     "output_type": "stream",
     "text": [
      "<class 'pandas.core.frame.DataFrame'>\n",
      "RangeIndex: 3774 entries, 0 to 3773\n",
      "Data columns (total 19 columns):\n",
      " #   Column                               Non-Null Count  Dtype         \n",
      "---  ------                               --------------  -----         \n",
      " 0   Date                                 3774 non-null   datetime64[ns]\n",
      " 1   State                                3774 non-null   object        \n",
      " 2   Total Individuals Registered         3766 non-null   float64       \n",
      " 3   Total Sessions Conducted             3767 non-null   float64       \n",
      " 4   Total Sites                          3767 non-null   float64       \n",
      " 5   First Dose Administered              3767 non-null   float64       \n",
      " 6   Second Dose Administered             3767 non-null   float64       \n",
      " 7   Male(Individuals Vaccinated)         3767 non-null   float64       \n",
      " 8   Female(Individuals Vaccinated)       3767 non-null   float64       \n",
      " 9   Transgender(Individuals Vaccinated)  3767 non-null   float64       \n",
      " 10  Total Covaxin Administered           3767 non-null   float64       \n",
      " 11  Total CoviShield Administered        3767 non-null   float64       \n",
      " 12  Total Individuals Vaccinated         3767 non-null   float64       \n",
      " 13  Total Doses Administered             3774 non-null   int64         \n",
      " 14  month                                3774 non-null   int64         \n",
      " 15  year                                 3774 non-null   int64         \n",
      " 16  day                                  3774 non-null   object        \n",
      " 17  date                                 3774 non-null   int64         \n",
      " 18  quarter                              3774 non-null   int64         \n",
      "dtypes: datetime64[ns](1), float64(11), int64(5), object(2)\n",
      "memory usage: 560.3+ KB\n"
     ]
    }
   ],
   "source": [
    "# checking info\n",
    "covid_vaccine_statewise.info()"
   ]
  },
  {
   "cell_type": "code",
   "execution_count": 23,
   "metadata": {},
   "outputs": [
    {
     "data": {
      "text/plain": [
       "Date                                    102\n",
       "State                                    38\n",
       "Total Individuals Registered           3551\n",
       "Total Sessions Conducted               3199\n",
       "Total Sites                            2078\n",
       "First Dose Administered                3538\n",
       "Second Dose Administered               2505\n",
       "Male(Individuals Vaccinated)           3496\n",
       "Female(Individuals Vaccinated)         3489\n",
       "Transgender(Individuals Vaccinated)     676\n",
       "Total Covaxin Administered             1922\n",
       "Total CoviShield Administered          3530\n",
       "Total Individuals Vaccinated           3538\n",
       "Total Doses Administered               3540\n",
       "month                                    12\n",
       "year                                      1\n",
       "day                                       7\n",
       "date                                     22\n",
       "quarter                                   4\n",
       "dtype: int64"
      ]
     },
     "execution_count": 23,
     "metadata": {},
     "output_type": "execute_result"
    }
   ],
   "source": [
    "# checking continous and categorical columns\n",
    "covid_vaccine_statewise.nunique()"
   ]
  },
  {
   "cell_type": "code",
   "execution_count": 24,
   "metadata": {},
   "outputs": [],
   "source": [
    "# Null treatment based of statewise mean \n",
    "z=['Total Individuals Registered','Total Sessions Conducted','Total Sites ','First Dose Administered','Male(Individuals Vaccinated)','Female(Individuals Vaccinated)','Transgender(Individuals Vaccinated)','Total Covaxin Administered','Total CoviShield Administered','Total Individuals Vaccinated']\n",
    "for i in z:\n",
    "\n",
    "    for j in covid_vaccine_statewise[covid_vaccine_statewise[i].isna()==True]['State'].unique():\n",
    "        z=covid_vaccine_statewise[covid_vaccine_statewise['State']==j]\n",
    "        k=z[z[i].isna()==False]\n",
    "        f=round(k[i].mean())\n",
    "        covid_vaccine_statewise[i][(covid_vaccine_statewise['State']==j) &(covid_vaccine_statewise[i].isna()==True)]=f"
   ]
  },
  {
   "cell_type": "code",
   "execution_count": 25,
   "metadata": {},
   "outputs": [
    {
     "name": "stdout",
     "output_type": "stream",
     "text": [
      "<class 'pandas.core.frame.DataFrame'>\n",
      "RangeIndex: 3774 entries, 0 to 3773\n",
      "Data columns (total 19 columns):\n",
      " #   Column                               Non-Null Count  Dtype         \n",
      "---  ------                               --------------  -----         \n",
      " 0   Date                                 3774 non-null   datetime64[ns]\n",
      " 1   State                                3774 non-null   object        \n",
      " 2   Total Individuals Registered         3774 non-null   float64       \n",
      " 3   Total Sessions Conducted             3774 non-null   float64       \n",
      " 4   Total Sites                          3774 non-null   float64       \n",
      " 5   First Dose Administered              3774 non-null   float64       \n",
      " 6   Second Dose Administered             3767 non-null   float64       \n",
      " 7   Male(Individuals Vaccinated)         3774 non-null   float64       \n",
      " 8   Female(Individuals Vaccinated)       3774 non-null   float64       \n",
      " 9   Transgender(Individuals Vaccinated)  3774 non-null   float64       \n",
      " 10  Total Covaxin Administered           3774 non-null   float64       \n",
      " 11  Total CoviShield Administered        3774 non-null   float64       \n",
      " 12  Total Individuals Vaccinated         3774 non-null   float64       \n",
      " 13  Total Doses Administered             3774 non-null   int64         \n",
      " 14  month                                3774 non-null   int64         \n",
      " 15  year                                 3774 non-null   int64         \n",
      " 16  day                                  3774 non-null   object        \n",
      " 17  date                                 3774 non-null   int64         \n",
      " 18  quarter                              3774 non-null   int64         \n",
      "dtypes: datetime64[ns](1), float64(11), int64(5), object(2)\n",
      "memory usage: 560.3+ KB\n"
     ]
    }
   ],
   "source": [
    "# checking null \n",
    "\n",
    "covid_vaccine_statewise.info()"
   ]
  },
  {
   "cell_type": "markdown",
   "metadata": {},
   "source": [
    "No null value "
   ]
  },
  {
   "cell_type": "code",
   "execution_count": 26,
   "metadata": {},
   "outputs": [],
   "source": [
    "# converting float to int\n",
    "covid_testing_statewise['Negative']= covid_testing_statewise['Negative'].astype(int)\n",
    "covid_testing_statewise['Positive']= covid_testing_statewise['Positive'].astype(int)"
   ]
  },
  {
   "cell_type": "code",
   "execution_count": 27,
   "metadata": {},
   "outputs": [
    {
     "name": "stdout",
     "output_type": "stream",
     "text": [
      "<class 'pandas.core.frame.DataFrame'>\n",
      "RangeIndex: 12676 entries, 0 to 12675\n",
      "Data columns (total 10 columns):\n",
      " #   Column        Non-Null Count  Dtype         \n",
      "---  ------        --------------  -----         \n",
      " 0   Date          12676 non-null  datetime64[ns]\n",
      " 1   State         12676 non-null  object        \n",
      " 2   TotalSamples  12676 non-null  int64         \n",
      " 3   Negative      12676 non-null  int32         \n",
      " 4   Positive      12676 non-null  int32         \n",
      " 5   month         12676 non-null  int64         \n",
      " 6   year          12676 non-null  int64         \n",
      " 7   day           12676 non-null  object        \n",
      " 8   date          12676 non-null  int64         \n",
      " 9   quarter       12676 non-null  int64         \n",
      "dtypes: datetime64[ns](1), int32(2), int64(5), object(2)\n",
      "memory usage: 891.4+ KB\n"
     ]
    }
   ],
   "source": [
    "covid_testing_statewise.info()"
   ]
  },
  {
   "cell_type": "markdown",
   "metadata": {},
   "source": [
    "# 2. Do a small descriptive analysis for each dataset. Get all the distribution for central tendency, skewness(plots), kurtosis and give insights."
   ]
  },
  {
   "cell_type": "code",
   "execution_count": 28,
   "metadata": {},
   "outputs": [
    {
     "data": {
      "text/html": [
       "<div>\n",
       "<style scoped>\n",
       "    .dataframe tbody tr th:only-of-type {\n",
       "        vertical-align: middle;\n",
       "    }\n",
       "\n",
       "    .dataframe tbody tr th {\n",
       "        vertical-align: top;\n",
       "    }\n",
       "\n",
       "    .dataframe thead th {\n",
       "        text-align: right;\n",
       "    }\n",
       "</style>\n",
       "<table border=\"1\" class=\"dataframe\">\n",
       "  <thead>\n",
       "    <tr style=\"text-align: right;\">\n",
       "      <th></th>\n",
       "      <th>Sno</th>\n",
       "      <th>Cured</th>\n",
       "      <th>Deaths</th>\n",
       "      <th>Confirmed</th>\n",
       "      <th>month</th>\n",
       "      <th>year</th>\n",
       "      <th>date</th>\n",
       "      <th>quarter</th>\n",
       "    </tr>\n",
       "  </thead>\n",
       "  <tbody>\n",
       "    <tr>\n",
       "      <th>count</th>\n",
       "      <td>14330.000000</td>\n",
       "      <td>1.433000e+04</td>\n",
       "      <td>14330.000000</td>\n",
       "      <td>1.433000e+04</td>\n",
       "      <td>14330.000000</td>\n",
       "      <td>14330.000000</td>\n",
       "      <td>14330.000000</td>\n",
       "      <td>14330.000000</td>\n",
       "    </tr>\n",
       "    <tr>\n",
       "      <th>mean</th>\n",
       "      <td>7165.500000</td>\n",
       "      <td>1.570767e+05</td>\n",
       "      <td>2508.967062</td>\n",
       "      <td>1.720831e+05</td>\n",
       "      <td>6.217097</td>\n",
       "      <td>2020.296441</td>\n",
       "      <td>15.841452</td>\n",
       "      <td>2.415283</td>\n",
       "    </tr>\n",
       "    <tr>\n",
       "      <th>std</th>\n",
       "      <td>4136.859014</td>\n",
       "      <td>3.177771e+05</td>\n",
       "      <td>6687.741239</td>\n",
       "      <td>3.487454e+05</td>\n",
       "      <td>3.399388</td>\n",
       "      <td>0.456704</td>\n",
       "      <td>8.757732</td>\n",
       "      <td>1.105113</td>\n",
       "    </tr>\n",
       "    <tr>\n",
       "      <th>min</th>\n",
       "      <td>1.000000</td>\n",
       "      <td>0.000000e+00</td>\n",
       "      <td>0.000000</td>\n",
       "      <td>0.000000e+00</td>\n",
       "      <td>1.000000</td>\n",
       "      <td>2020.000000</td>\n",
       "      <td>1.000000</td>\n",
       "      <td>1.000000</td>\n",
       "    </tr>\n",
       "    <tr>\n",
       "      <th>25%</th>\n",
       "      <td>3583.250000</td>\n",
       "      <td>1.318750e+03</td>\n",
       "      <td>10.000000</td>\n",
       "      <td>2.445250e+03</td>\n",
       "      <td>3.000000</td>\n",
       "      <td>2020.000000</td>\n",
       "      <td>8.000000</td>\n",
       "      <td>1.000000</td>\n",
       "    </tr>\n",
       "    <tr>\n",
       "      <th>50%</th>\n",
       "      <td>7165.500000</td>\n",
       "      <td>1.678500e+04</td>\n",
       "      <td>329.000000</td>\n",
       "      <td>2.164750e+04</td>\n",
       "      <td>6.000000</td>\n",
       "      <td>2020.000000</td>\n",
       "      <td>16.000000</td>\n",
       "      <td>2.000000</td>\n",
       "    </tr>\n",
       "    <tr>\n",
       "      <th>75%</th>\n",
       "      <td>10747.750000</td>\n",
       "      <td>1.844340e+05</td>\n",
       "      <td>1923.750000</td>\n",
       "      <td>2.104340e+05</td>\n",
       "      <td>9.000000</td>\n",
       "      <td>2021.000000</td>\n",
       "      <td>23.000000</td>\n",
       "      <td>3.000000</td>\n",
       "    </tr>\n",
       "    <tr>\n",
       "      <th>max</th>\n",
       "      <td>14330.000000</td>\n",
       "      <td>3.669548e+06</td>\n",
       "      <td>66179.000000</td>\n",
       "      <td>4.410085e+06</td>\n",
       "      <td>12.000000</td>\n",
       "      <td>2021.000000</td>\n",
       "      <td>31.000000</td>\n",
       "      <td>4.000000</td>\n",
       "    </tr>\n",
       "  </tbody>\n",
       "</table>\n",
       "</div>"
      ],
      "text/plain": [
       "                Sno         Cured        Deaths     Confirmed         month  \\\n",
       "count  14330.000000  1.433000e+04  14330.000000  1.433000e+04  14330.000000   \n",
       "mean    7165.500000  1.570767e+05   2508.967062  1.720831e+05      6.217097   \n",
       "std     4136.859014  3.177771e+05   6687.741239  3.487454e+05      3.399388   \n",
       "min        1.000000  0.000000e+00      0.000000  0.000000e+00      1.000000   \n",
       "25%     3583.250000  1.318750e+03     10.000000  2.445250e+03      3.000000   \n",
       "50%     7165.500000  1.678500e+04    329.000000  2.164750e+04      6.000000   \n",
       "75%    10747.750000  1.844340e+05   1923.750000  2.104340e+05      9.000000   \n",
       "max    14330.000000  3.669548e+06  66179.000000  4.410085e+06     12.000000   \n",
       "\n",
       "               year          date       quarter  \n",
       "count  14330.000000  14330.000000  14330.000000  \n",
       "mean    2020.296441     15.841452      2.415283  \n",
       "std        0.456704      8.757732      1.105113  \n",
       "min     2020.000000      1.000000      1.000000  \n",
       "25%     2020.000000      8.000000      1.000000  \n",
       "50%     2020.000000     16.000000      2.000000  \n",
       "75%     2021.000000     23.000000      3.000000  \n",
       "max     2021.000000     31.000000      4.000000  "
      ]
     },
     "execution_count": 28,
     "metadata": {},
     "output_type": "execute_result"
    }
   ],
   "source": [
    "covid_dataset.describe()"
   ]
  },
  {
   "cell_type": "code",
   "execution_count": 29,
   "metadata": {},
   "outputs": [
    {
     "data": {
      "text/html": [
       "<div>\n",
       "<style scoped>\n",
       "    .dataframe tbody tr th:only-of-type {\n",
       "        vertical-align: middle;\n",
       "    }\n",
       "\n",
       "    .dataframe tbody tr th {\n",
       "        vertical-align: top;\n",
       "    }\n",
       "\n",
       "    .dataframe thead th {\n",
       "        text-align: right;\n",
       "    }\n",
       "</style>\n",
       "<table border=\"1\" class=\"dataframe\">\n",
       "  <thead>\n",
       "    <tr style=\"text-align: right;\">\n",
       "      <th></th>\n",
       "      <th>TotalSamples</th>\n",
       "      <th>Negative</th>\n",
       "      <th>Positive</th>\n",
       "      <th>month</th>\n",
       "      <th>year</th>\n",
       "      <th>date</th>\n",
       "      <th>quarter</th>\n",
       "    </tr>\n",
       "  </thead>\n",
       "  <tbody>\n",
       "    <tr>\n",
       "      <th>count</th>\n",
       "      <td>1.267600e+04</td>\n",
       "      <td>1.267600e+04</td>\n",
       "      <td>1.267600e+04</td>\n",
       "      <td>12676.000000</td>\n",
       "      <td>12676.000000</td>\n",
       "      <td>12676.000000</td>\n",
       "      <td>12676.000000</td>\n",
       "    </tr>\n",
       "    <tr>\n",
       "      <th>mean</th>\n",
       "      <td>3.457055e+06</td>\n",
       "      <td>9.472934e+05</td>\n",
       "      <td>7.299033e+04</td>\n",
       "      <td>6.484695</td>\n",
       "      <td>2020.303802</td>\n",
       "      <td>15.733039</td>\n",
       "      <td>2.505759</td>\n",
       "    </tr>\n",
       "    <tr>\n",
       "      <th>std</th>\n",
       "      <td>5.609148e+06</td>\n",
       "      <td>1.824862e+06</td>\n",
       "      <td>1.666165e+05</td>\n",
       "      <td>3.414045</td>\n",
       "      <td>0.459917</td>\n",
       "      <td>8.731067</td>\n",
       "      <td>1.100998</td>\n",
       "    </tr>\n",
       "    <tr>\n",
       "      <th>min</th>\n",
       "      <td>5.800000e+01</td>\n",
       "      <td>0.000000e+00</td>\n",
       "      <td>0.000000e+00</td>\n",
       "      <td>1.000000</td>\n",
       "      <td>2020.000000</td>\n",
       "      <td>1.000000</td>\n",
       "      <td>1.000000</td>\n",
       "    </tr>\n",
       "    <tr>\n",
       "      <th>25%</th>\n",
       "      <td>1.041630e+05</td>\n",
       "      <td>5.489525e+04</td>\n",
       "      <td>2.129000e+03</td>\n",
       "      <td>4.000000</td>\n",
       "      <td>2020.000000</td>\n",
       "      <td>8.000000</td>\n",
       "      <td>2.000000</td>\n",
       "    </tr>\n",
       "    <tr>\n",
       "      <th>50%</th>\n",
       "      <td>5.680945e+05</td>\n",
       "      <td>3.027690e+05</td>\n",
       "      <td>1.562900e+04</td>\n",
       "      <td>6.000000</td>\n",
       "      <td>2020.000000</td>\n",
       "      <td>16.000000</td>\n",
       "      <td>2.000000</td>\n",
       "    </tr>\n",
       "    <tr>\n",
       "      <th>75%</th>\n",
       "      <td>4.998750e+06</td>\n",
       "      <td>8.328468e+05</td>\n",
       "      <td>5.567600e+04</td>\n",
       "      <td>9.000000</td>\n",
       "      <td>2021.000000</td>\n",
       "      <td>23.000000</td>\n",
       "      <td>3.000000</td>\n",
       "    </tr>\n",
       "    <tr>\n",
       "      <th>max</th>\n",
       "      <td>4.014135e+07</td>\n",
       "      <td>1.508821e+07</td>\n",
       "      <td>1.638961e+06</td>\n",
       "      <td>12.000000</td>\n",
       "      <td>2021.000000</td>\n",
       "      <td>31.000000</td>\n",
       "      <td>4.000000</td>\n",
       "    </tr>\n",
       "  </tbody>\n",
       "</table>\n",
       "</div>"
      ],
      "text/plain": [
       "       TotalSamples      Negative      Positive         month          year  \\\n",
       "count  1.267600e+04  1.267600e+04  1.267600e+04  12676.000000  12676.000000   \n",
       "mean   3.457055e+06  9.472934e+05  7.299033e+04      6.484695   2020.303802   \n",
       "std    5.609148e+06  1.824862e+06  1.666165e+05      3.414045      0.459917   \n",
       "min    5.800000e+01  0.000000e+00  0.000000e+00      1.000000   2020.000000   \n",
       "25%    1.041630e+05  5.489525e+04  2.129000e+03      4.000000   2020.000000   \n",
       "50%    5.680945e+05  3.027690e+05  1.562900e+04      6.000000   2020.000000   \n",
       "75%    4.998750e+06  8.328468e+05  5.567600e+04      9.000000   2021.000000   \n",
       "max    4.014135e+07  1.508821e+07  1.638961e+06     12.000000   2021.000000   \n",
       "\n",
       "               date       quarter  \n",
       "count  12676.000000  12676.000000  \n",
       "mean      15.733039      2.505759  \n",
       "std        8.731067      1.100998  \n",
       "min        1.000000      1.000000  \n",
       "25%        8.000000      2.000000  \n",
       "50%       16.000000      2.000000  \n",
       "75%       23.000000      3.000000  \n",
       "max       31.000000      4.000000  "
      ]
     },
     "execution_count": 29,
     "metadata": {},
     "output_type": "execute_result"
    }
   ],
   "source": [
    "covid_testing_statewise.describe()"
   ]
  },
  {
   "cell_type": "code",
   "execution_count": 30,
   "metadata": {},
   "outputs": [
    {
     "data": {
      "text/html": [
       "<div>\n",
       "<style scoped>\n",
       "    .dataframe tbody tr th:only-of-type {\n",
       "        vertical-align: middle;\n",
       "    }\n",
       "\n",
       "    .dataframe tbody tr th {\n",
       "        vertical-align: top;\n",
       "    }\n",
       "\n",
       "    .dataframe thead th {\n",
       "        text-align: right;\n",
       "    }\n",
       "</style>\n",
       "<table border=\"1\" class=\"dataframe\">\n",
       "  <thead>\n",
       "    <tr style=\"text-align: right;\">\n",
       "      <th></th>\n",
       "      <th>Total Individuals Registered</th>\n",
       "      <th>Total Sessions Conducted</th>\n",
       "      <th>Total Sites</th>\n",
       "      <th>First Dose Administered</th>\n",
       "      <th>Second Dose Administered</th>\n",
       "      <th>Male(Individuals Vaccinated)</th>\n",
       "      <th>Female(Individuals Vaccinated)</th>\n",
       "      <th>Transgender(Individuals Vaccinated)</th>\n",
       "      <th>Total Covaxin Administered</th>\n",
       "      <th>Total CoviShield Administered</th>\n",
       "      <th>Total Individuals Vaccinated</th>\n",
       "      <th>Total Doses Administered</th>\n",
       "      <th>month</th>\n",
       "      <th>year</th>\n",
       "      <th>date</th>\n",
       "      <th>quarter</th>\n",
       "    </tr>\n",
       "  </thead>\n",
       "  <tbody>\n",
       "    <tr>\n",
       "      <th>count</th>\n",
       "      <td>3.774000e+03</td>\n",
       "      <td>3.774000e+03</td>\n",
       "      <td>3774.000000</td>\n",
       "      <td>3.774000e+03</td>\n",
       "      <td>3.767000e+03</td>\n",
       "      <td>3.774000e+03</td>\n",
       "      <td>3.774000e+03</td>\n",
       "      <td>3774.000000</td>\n",
       "      <td>3.774000e+03</td>\n",
       "      <td>3.774000e+03</td>\n",
       "      <td>3.774000e+03</td>\n",
       "      <td>3.774000e+03</td>\n",
       "      <td>3774.000000</td>\n",
       "      <td>3774.0</td>\n",
       "      <td>3774.000000</td>\n",
       "      <td>3774.000000</td>\n",
       "    </tr>\n",
       "    <tr>\n",
       "      <th>mean</th>\n",
       "      <td>2.219252e+06</td>\n",
       "      <td>1.522563e+05</td>\n",
       "      <td>3105.573927</td>\n",
       "      <td>1.930897e+06</td>\n",
       "      <td>3.140222e+05</td>\n",
       "      <td>1.008796e+06</td>\n",
       "      <td>9.218975e+05</td>\n",
       "      <td>226.320880</td>\n",
       "      <td>1.885690e+05</td>\n",
       "      <td>1.934187e+06</td>\n",
       "      <td>1.930909e+06</td>\n",
       "      <td>2.244309e+06</td>\n",
       "      <td>3.911765</td>\n",
       "      <td>2021.0</td>\n",
       "      <td>15.000000</td>\n",
       "      <td>1.676471</td>\n",
       "    </tr>\n",
       "    <tr>\n",
       "      <th>std</th>\n",
       "      <td>8.938142e+06</td>\n",
       "      <td>7.811082e+05</td>\n",
       "      <td>10455.887635</td>\n",
       "      <td>8.670435e+06</td>\n",
       "      <td>1.410315e+06</td>\n",
       "      <td>4.535957e+06</td>\n",
       "      <td>4.135392e+06</td>\n",
       "      <td>1046.682596</td>\n",
       "      <td>8.880936e+05</td>\n",
       "      <td>8.966407e+06</td>\n",
       "      <td>8.670433e+06</td>\n",
       "      <td>1.006064e+07</td>\n",
       "      <td>2.937985</td>\n",
       "      <td>0.0</td>\n",
       "      <td>9.745067</td>\n",
       "      <td>0.961762</td>\n",
       "    </tr>\n",
       "    <tr>\n",
       "      <th>min</th>\n",
       "      <td>7.420000e+02</td>\n",
       "      <td>1.000000e+00</td>\n",
       "      <td>1.000000</td>\n",
       "      <td>7.000000e+00</td>\n",
       "      <td>0.000000e+00</td>\n",
       "      <td>0.000000e+00</td>\n",
       "      <td>2.000000e+00</td>\n",
       "      <td>0.000000</td>\n",
       "      <td>0.000000e+00</td>\n",
       "      <td>7.000000e+00</td>\n",
       "      <td>7.000000e+00</td>\n",
       "      <td>0.000000e+00</td>\n",
       "      <td>1.000000</td>\n",
       "      <td>2021.0</td>\n",
       "      <td>2.000000</td>\n",
       "      <td>1.000000</td>\n",
       "    </tr>\n",
       "    <tr>\n",
       "      <th>25%</th>\n",
       "      <td>7.669800e+04</td>\n",
       "      <td>1.247250e+03</td>\n",
       "      <td>114.000000</td>\n",
       "      <td>2.708350e+04</td>\n",
       "      <td>0.000000e+00</td>\n",
       "      <td>1.278975e+04</td>\n",
       "      <td>1.258025e+04</td>\n",
       "      <td>1.000000</td>\n",
       "      <td>0.000000e+00</td>\n",
       "      <td>2.709125e+04</td>\n",
       "      <td>2.717025e+04</td>\n",
       "      <td>3.065275e+04</td>\n",
       "      <td>2.000000</td>\n",
       "      <td>2021.0</td>\n",
       "      <td>4.000000</td>\n",
       "      <td>1.000000</td>\n",
       "    </tr>\n",
       "    <tr>\n",
       "      <th>50%</th>\n",
       "      <td>3.883650e+05</td>\n",
       "      <td>8.200000e+03</td>\n",
       "      <td>691.500000</td>\n",
       "      <td>1.630885e+05</td>\n",
       "      <td>1.568700e+04</td>\n",
       "      <td>8.112750e+04</td>\n",
       "      <td>7.915050e+04</td>\n",
       "      <td>12.000000</td>\n",
       "      <td>2.515000e+02</td>\n",
       "      <td>1.743575e+05</td>\n",
       "      <td>1.630885e+05</td>\n",
       "      <td>1.866165e+05</td>\n",
       "      <td>3.000000</td>\n",
       "      <td>2021.0</td>\n",
       "      <td>17.000000</td>\n",
       "      <td>1.000000</td>\n",
       "    </tr>\n",
       "    <tr>\n",
       "      <th>75%</th>\n",
       "      <td>1.329102e+06</td>\n",
       "      <td>6.074050e+04</td>\n",
       "      <td>2442.000000</td>\n",
       "      <td>1.064011e+06</td>\n",
       "      <td>2.124620e+05</td>\n",
       "      <td>5.576030e+05</td>\n",
       "      <td>4.984345e+05</td>\n",
       "      <td>125.000000</td>\n",
       "      <td>8.369125e+04</td>\n",
       "      <td>1.015297e+06</td>\n",
       "      <td>1.064011e+06</td>\n",
       "      <td>1.249540e+06</td>\n",
       "      <td>4.000000</td>\n",
       "      <td>2021.0</td>\n",
       "      <td>23.000000</td>\n",
       "      <td>2.000000</td>\n",
       "    </tr>\n",
       "    <tr>\n",
       "      <th>max</th>\n",
       "      <td>1.212633e+08</td>\n",
       "      <td>1.078696e+07</td>\n",
       "      <td>124323.000000</td>\n",
       "      <td>1.212633e+08</td>\n",
       "      <td>2.361595e+07</td>\n",
       "      <td>6.326661e+07</td>\n",
       "      <td>5.798090e+07</td>\n",
       "      <td>15771.000000</td>\n",
       "      <td>1.336254e+07</td>\n",
       "      <td>1.315167e+08</td>\n",
       "      <td>1.212633e+08</td>\n",
       "      <td>1.448792e+08</td>\n",
       "      <td>12.000000</td>\n",
       "      <td>2021.0</td>\n",
       "      <td>31.000000</td>\n",
       "      <td>4.000000</td>\n",
       "    </tr>\n",
       "  </tbody>\n",
       "</table>\n",
       "</div>"
      ],
      "text/plain": [
       "       Total Individuals Registered  Total Sessions Conducted   Total Sites   \\\n",
       "count                  3.774000e+03              3.774000e+03    3774.000000   \n",
       "mean                   2.219252e+06              1.522563e+05    3105.573927   \n",
       "std                    8.938142e+06              7.811082e+05   10455.887635   \n",
       "min                    7.420000e+02              1.000000e+00       1.000000   \n",
       "25%                    7.669800e+04              1.247250e+03     114.000000   \n",
       "50%                    3.883650e+05              8.200000e+03     691.500000   \n",
       "75%                    1.329102e+06              6.074050e+04    2442.000000   \n",
       "max                    1.212633e+08              1.078696e+07  124323.000000   \n",
       "\n",
       "       First Dose Administered  Second Dose Administered  \\\n",
       "count             3.774000e+03              3.767000e+03   \n",
       "mean              1.930897e+06              3.140222e+05   \n",
       "std               8.670435e+06              1.410315e+06   \n",
       "min               7.000000e+00              0.000000e+00   \n",
       "25%               2.708350e+04              0.000000e+00   \n",
       "50%               1.630885e+05              1.568700e+04   \n",
       "75%               1.064011e+06              2.124620e+05   \n",
       "max               1.212633e+08              2.361595e+07   \n",
       "\n",
       "       Male(Individuals Vaccinated)  Female(Individuals Vaccinated)  \\\n",
       "count                  3.774000e+03                    3.774000e+03   \n",
       "mean                   1.008796e+06                    9.218975e+05   \n",
       "std                    4.535957e+06                    4.135392e+06   \n",
       "min                    0.000000e+00                    2.000000e+00   \n",
       "25%                    1.278975e+04                    1.258025e+04   \n",
       "50%                    8.112750e+04                    7.915050e+04   \n",
       "75%                    5.576030e+05                    4.984345e+05   \n",
       "max                    6.326661e+07                    5.798090e+07   \n",
       "\n",
       "       Transgender(Individuals Vaccinated)  Total Covaxin Administered  \\\n",
       "count                          3774.000000                3.774000e+03   \n",
       "mean                            226.320880                1.885690e+05   \n",
       "std                            1046.682596                8.880936e+05   \n",
       "min                               0.000000                0.000000e+00   \n",
       "25%                               1.000000                0.000000e+00   \n",
       "50%                              12.000000                2.515000e+02   \n",
       "75%                             125.000000                8.369125e+04   \n",
       "max                           15771.000000                1.336254e+07   \n",
       "\n",
       "       Total CoviShield Administered  Total Individuals Vaccinated  \\\n",
       "count                   3.774000e+03                  3.774000e+03   \n",
       "mean                    1.934187e+06                  1.930909e+06   \n",
       "std                     8.966407e+06                  8.670433e+06   \n",
       "min                     7.000000e+00                  7.000000e+00   \n",
       "25%                     2.709125e+04                  2.717025e+04   \n",
       "50%                     1.743575e+05                  1.630885e+05   \n",
       "75%                     1.015297e+06                  1.064011e+06   \n",
       "max                     1.315167e+08                  1.212633e+08   \n",
       "\n",
       "       Total Doses Administered        month    year         date      quarter  \n",
       "count              3.774000e+03  3774.000000  3774.0  3774.000000  3774.000000  \n",
       "mean               2.244309e+06     3.911765  2021.0    15.000000     1.676471  \n",
       "std                1.006064e+07     2.937985     0.0     9.745067     0.961762  \n",
       "min                0.000000e+00     1.000000  2021.0     2.000000     1.000000  \n",
       "25%                3.065275e+04     2.000000  2021.0     4.000000     1.000000  \n",
       "50%                1.866165e+05     3.000000  2021.0    17.000000     1.000000  \n",
       "75%                1.249540e+06     4.000000  2021.0    23.000000     2.000000  \n",
       "max                1.448792e+08    12.000000  2021.0    31.000000     4.000000  "
      ]
     },
     "execution_count": 30,
     "metadata": {},
     "output_type": "execute_result"
    }
   ],
   "source": [
    "covid_vaccine_statewise.describe()"
   ]
  },
  {
   "cell_type": "code",
   "execution_count": null,
   "metadata": {},
   "outputs": [],
   "source": []
  },
  {
   "cell_type": "markdown",
   "metadata": {},
   "source": [
    "# 3.How many Quantitative and Qualitative variables are there in each dataset."
   ]
  },
  {
   "cell_type": "code",
   "execution_count": 31,
   "metadata": {},
   "outputs": [
    {
     "data": {
      "text/plain": [
       "Sno                         14330\n",
       "Date                          455\n",
       "Time                            7\n",
       "State/UnionTerritory           39\n",
       "ConfirmedIndianNational        62\n",
       "ConfirmedForeignNational       12\n",
       "Cured                       10802\n",
       "Deaths                       4668\n",
       "Confirmed                   11356\n",
       "month                          12\n",
       "year                            2\n",
       "day                             7\n",
       "date                           31\n",
       "quarter                         4\n",
       "dtype: int64"
      ]
     },
     "execution_count": 31,
     "metadata": {},
     "output_type": "execute_result"
    }
   ],
   "source": [
    "covid_dataset.nunique()"
   ]
  },
  {
   "cell_type": "markdown",
   "metadata": {},
   "source": [
    "11 Quantatative & 4 Qualitave variable"
   ]
  },
  {
   "cell_type": "code",
   "execution_count": 32,
   "metadata": {},
   "outputs": [
    {
     "data": {
      "text/plain": [
       "Date              392\n",
       "State              36\n",
       "TotalSamples    12529\n",
       "Negative         7887\n",
       "Positive         6538\n",
       "month              12\n",
       "year                2\n",
       "day                 7\n",
       "date               31\n",
       "quarter             4\n",
       "dtype: int64"
      ]
     },
     "execution_count": 32,
     "metadata": {},
     "output_type": "execute_result"
    }
   ],
   "source": [
    "covid_testing_statewise.nunique()"
   ]
  },
  {
   "cell_type": "markdown",
   "metadata": {},
   "source": [
    "8 Quantatative & 3 Qualitave variable"
   ]
  },
  {
   "cell_type": "code",
   "execution_count": 33,
   "metadata": {},
   "outputs": [
    {
     "data": {
      "text/plain": [
       "Date                                    102\n",
       "State                                    38\n",
       "Total Individuals Registered           3553\n",
       "Total Sessions Conducted               3200\n",
       "Total Sites                            2078\n",
       "First Dose Administered                3539\n",
       "Second Dose Administered               2505\n",
       "Male(Individuals Vaccinated)           3497\n",
       "Female(Individuals Vaccinated)         3490\n",
       "Transgender(Individuals Vaccinated)     676\n",
       "Total Covaxin Administered             1922\n",
       "Total CoviShield Administered          3531\n",
       "Total Individuals Vaccinated           3539\n",
       "Total Doses Administered               3540\n",
       "month                                    12\n",
       "year                                      1\n",
       "day                                       7\n",
       "date                                     22\n",
       "quarter                                   4\n",
       "dtype: int64"
      ]
     },
     "execution_count": 33,
     "metadata": {},
     "output_type": "execute_result"
    }
   ],
   "source": [
    "covid_vaccine_statewise.nunique()"
   ]
  },
  {
   "cell_type": "markdown",
   "metadata": {},
   "source": [
    "16 Quantatative & 3 Qualitave variable"
   ]
  },
  {
   "cell_type": "markdown",
   "metadata": {},
   "source": [
    "# 4.Split the Quantative/Qualitative into its sub categories."
   ]
  },
  {
   "cell_type": "code",
   "execution_count": null,
   "metadata": {},
   "outputs": [],
   "source": []
  },
  {
   "cell_type": "markdown",
   "metadata": {},
   "source": [
    "# 5. Do a state wise analysis and plot top 10 states having most number of positive cases in the month of April,2021."
   ]
  },
  {
   "cell_type": "code",
   "execution_count": 34,
   "metadata": {},
   "outputs": [
    {
     "data": {
      "text/html": [
       "<div>\n",
       "<style scoped>\n",
       "    .dataframe tbody tr th:only-of-type {\n",
       "        vertical-align: middle;\n",
       "    }\n",
       "\n",
       "    .dataframe tbody tr th {\n",
       "        vertical-align: top;\n",
       "    }\n",
       "\n",
       "    .dataframe thead th {\n",
       "        text-align: right;\n",
       "    }\n",
       "</style>\n",
       "<table border=\"1\" class=\"dataframe\">\n",
       "  <thead>\n",
       "    <tr style=\"text-align: right;\">\n",
       "      <th></th>\n",
       "      <th>Positive</th>\n",
       "    </tr>\n",
       "    <tr>\n",
       "      <th>State</th>\n",
       "      <th></th>\n",
       "    </tr>\n",
       "  </thead>\n",
       "  <tbody>\n",
       "    <tr>\n",
       "      <th>Andhra Pradesh</th>\n",
       "      <td>18338362</td>\n",
       "    </tr>\n",
       "    <tr>\n",
       "      <th>Madhya Pradesh</th>\n",
       "      <td>10065501</td>\n",
       "    </tr>\n",
       "    <tr>\n",
       "      <th>Maharashtra</th>\n",
       "      <td>9345948</td>\n",
       "    </tr>\n",
       "    <tr>\n",
       "      <th>Kerala</th>\n",
       "      <td>5453187</td>\n",
       "    </tr>\n",
       "    <tr>\n",
       "      <th>Jharkhand</th>\n",
       "      <td>3113474</td>\n",
       "    </tr>\n",
       "    <tr>\n",
       "      <th>Haryana</th>\n",
       "      <td>2925013</td>\n",
       "    </tr>\n",
       "    <tr>\n",
       "      <th>Jammu and Kashmir</th>\n",
       "      <td>2776873</td>\n",
       "    </tr>\n",
       "    <tr>\n",
       "      <th>Uttarakhand</th>\n",
       "      <td>2383239</td>\n",
       "    </tr>\n",
       "    <tr>\n",
       "      <th>Rajasthan</th>\n",
       "      <td>1930267</td>\n",
       "    </tr>\n",
       "    <tr>\n",
       "      <th>Tamil Nadu</th>\n",
       "      <td>1797609</td>\n",
       "    </tr>\n",
       "  </tbody>\n",
       "</table>\n",
       "</div>"
      ],
      "text/plain": [
       "                   Positive\n",
       "State                      \n",
       "Andhra Pradesh     18338362\n",
       "Madhya Pradesh     10065501\n",
       "Maharashtra         9345948\n",
       "Kerala              5453187\n",
       "Jharkhand           3113474\n",
       "Haryana             2925013\n",
       "Jammu and Kashmir   2776873\n",
       "Uttarakhand         2383239\n",
       "Rajasthan           1930267\n",
       "Tamil Nadu          1797609"
      ]
     },
     "execution_count": 34,
     "metadata": {},
     "output_type": "execute_result"
    }
   ],
   "source": [
    "pd.DataFrame(covid_testing_statewise[(covid_testing_statewise['month']==4) &(covid_testing_statewise['year']==2021)].groupby('State')['Positive'].sum().sort_values(ascending=False).head(10))"
   ]
  },
  {
   "cell_type": "code",
   "execution_count": 35,
   "metadata": {},
   "outputs": [
    {
     "data": {
      "text/plain": [
       "([<matplotlib.patches.Wedge at 0x2b066971970>,\n",
       "  <matplotlib.patches.Wedge at 0x2b06697e100>,\n",
       "  <matplotlib.patches.Wedge at 0x2b06697e790>,\n",
       "  <matplotlib.patches.Wedge at 0x2b06697ee20>,\n",
       "  <matplotlib.patches.Wedge at 0x2b0669894f0>,\n",
       "  <matplotlib.patches.Wedge at 0x2b066989b80>,\n",
       "  <matplotlib.patches.Wedge at 0x2b066995250>,\n",
       "  <matplotlib.patches.Wedge at 0x2b0669958e0>,\n",
       "  <matplotlib.patches.Wedge at 0x2b066995f70>,\n",
       "  <matplotlib.patches.Wedge at 0x2b0669a3640>],\n",
       " [Text(0.8435757954679424, 1.2884020635269986, 'AP'),\n",
       "  Text(-1.2574569437847232, 0.889045575056523, 'MP'),\n",
       "  Text(-1.397444482306028, -0.6471081199246674, 'Maharastha'),\n",
       "  Text(-0.5096701706558109, -1.4532158535963187, 'Kerala'),\n",
       "  Text(0.19301966621075084, -1.5278558205720494, 'Jharkhand'),\n",
       "  Text(0.6726417363586962, -1.3853350116518237, 'Haryana'),\n",
       "  Text(1.061132586981059, -1.1160634537726273, 'JK'),\n",
       "  Text(1.327361589717095, -0.780840066943101, 'UK'),\n",
       "  Text(1.4718431817024236, -0.45307576460906296, 'RJ'),\n",
       "  Text(1.5327381295129041, -0.14937813205849174, 'TN')],\n",
       " [Text(0.46013225207342306, 0.7027647619238174, '31.55%'),\n",
       "  Text(-0.6858856057007581, 0.48493395003083073, '17.32%'),\n",
       "  Text(-0.762242444894197, -0.35296806541345493, '16.08%'),\n",
       "  Text(-0.27800191126680596, -0.7926631928707192, '9.38%'),\n",
       "  Text(0.10528345429677317, -0.8333759021302087, '5.36%'),\n",
       "  Text(0.36689549255928877, -0.7556372790828129, '5.03%'),\n",
       "  Text(0.5787995928987594, -0.6087618838759785, '4.78%'),\n",
       "  Text(0.7240154125729609, -0.425912763787146, '4.10%'),\n",
       "  Text(0.8028235536558673, -0.24713223524130706, '3.32%'),\n",
       "  Text(0.8360389797343113, -0.08147898112281367, '3.09%')])"
      ]
     },
     "execution_count": 35,
     "metadata": {},
     "output_type": "execute_result"
    },
    {
     "data": {
      "image/png": "[encoded data removed]",
      "text/plain": [
       "<Figure size 576x432 with 2 Axes>"
      ]
     },
     "metadata": {
      "needs_background": "light"
     },
     "output_type": "display_data"
    }
   ],
   "source": [
    "plt.figure(figsize=(50,10))\n",
    "plt.subplot(1,2,1)\n",
    "covid_testing_statewise[(covid_testing_statewise['month']==4) & (covid_testing_statewise['year']==2021)].groupby('State')['Positive'].sum().sort_values(ascending=False).head(10).plot(kind='bar', figsize=(8,6))\n",
    "plt.title('Top 10 State Having Positive Cases in Month of April 2021')\n",
    "\n",
    "plt.subplot(1,2,2)\n",
    "z= covid_testing_statewise[(covid_testing_statewise['month']==4) & (covid_testing_statewise['year']==2021)].groupby('State')['Positive'].sum().sort_values(ascending=False).head(10)\n",
    "plt.pie(z, labels=['AP','MP','Maharastha','Kerala','Jharkhand','Haryana','JK','UK','RJ','TN'], autopct='%0.2f%%', radius=1.4)"
   ]
  },
  {
   "cell_type": "markdown",
   "metadata": {},
   "source": [
    "# 6. Get 'Confirmed','Cured','Deaths' and 'Death Percentage' till now for all the data."
   ]
  },
  {
   "cell_type": "code",
   "execution_count": 36,
   "metadata": {},
   "outputs": [
    {
     "name": "stdout",
     "output_type": "stream",
     "text": [
      "This is for all the data avaiable till now \n",
      "\n",
      "Total Cured = 2250909307\n",
      "Total Deaths = 35953498\n",
      "Total Confirmed = 2465951118\n"
     ]
    }
   ],
   "source": [
    "z=['Cured','Deaths', 'Confirmed']\n",
    "print('This is for all the data avaiable till now \\n')\n",
    "for i in z:\n",
    "    k=covid_dataset[i].sum()\n",
    "    print(f'Total {i} = {k}')"
   ]
  },
  {
   "cell_type": "code",
   "execution_count": 37,
   "metadata": {},
   "outputs": [
    {
     "name": "stdout",
     "output_type": "stream",
     "text": [
      "Death percentage =  1.57 %\n"
     ]
    }
   ],
   "source": [
    "# Death Percentage = (Total Death/(Total Death + Total Cured))*100\n",
    "\n",
    "print('Death percentage = ',round(35953498*100/(2250909307 + 35953498),2), '%')"
   ]
  },
  {
   "cell_type": "markdown",
   "metadata": {},
   "source": [
    "# 7.Top 10 states with highest number of Confirmed cases in the first wave ie 2020 and second wave 2021."
   ]
  },
  {
   "cell_type": "code",
   "execution_count": 38,
   "metadata": {},
   "outputs": [
    {
     "data": {
      "text/plain": [
       "year  month\n",
       "2020  1                2\n",
       "      2               86\n",
       "      3             9687\n",
       "      4           422442\n",
       "      5          2938234\n",
       "      6         10558374\n",
       "      7         31726501\n",
       "      8         80749620\n",
       "      9        149113758\n",
       "      10       226770312\n",
       "      11       264556412\n",
       "      12       307177353\n",
       "2021  1        326469747\n",
       "      2        305631803\n",
       "      3        356305616\n",
       "      4        403521171\n",
       "Name: Confirmed, dtype: int64"
      ]
     },
     "execution_count": 38,
     "metadata": {},
     "output_type": "execute_result"
    }
   ],
   "source": [
    "covid_dataset.groupby(['year','month'])['Confirmed'].sum()"
   ]
  },
  {
   "cell_type": "code",
   "execution_count": 39,
   "metadata": {},
   "outputs": [
    {
     "data": {
      "text/plain": [
       "<AxesSubplot:xlabel='year,month'>"
      ]
     },
     "execution_count": 39,
     "metadata": {},
     "output_type": "execute_result"
    },
    {
     "data": {
      "image/png": "[encoded data removed]",
      "text/plain": [
       "<Figure size 864x432 with 1 Axes>"
      ]
     },
     "metadata": {
      "needs_background": "light"
     },
     "output_type": "display_data"
    }
   ],
   "source": [
    "covid_dataset.groupby(['year','month'])['Confirmed'].sum().plot(kind='line',figsize=(12,6))"
   ]
  },
  {
   "cell_type": "markdown",
   "metadata": {},
   "source": [
    "# 8. Which of the above states were worsely affected in first and second wave both"
   ]
  },
  {
   "cell_type": "code",
   "execution_count": null,
   "metadata": {},
   "outputs": [],
   "source": []
  },
  {
   "cell_type": "markdown",
   "metadata": {},
   "source": [
    "# 9. Top 10 states with least number of Cured cases."
   ]
  },
  {
   "cell_type": "code",
   "execution_count": 40,
   "metadata": {},
   "outputs": [
    {
     "data": {
      "text/plain": [
       "State/UnionTerritory\n",
       "Unassigned                                        0\n",
       "Cases being reassigned to states                  0\n",
       "Daman & Diu                                       0\n",
       "Lakshadweep                                   39926\n",
       "Mizoram                                      830518\n",
       "Dadra and Nagar Haveli and Daman and Diu     840759\n",
       "Andaman and Nicobar Islands                 1122556\n",
       "Sikkim                                      1142598\n",
       "Ladakh                                      1886982\n",
       "Nagaland                                    2399352\n",
       "Name: Cured, dtype: int64"
      ]
     },
     "execution_count": 40,
     "metadata": {},
     "output_type": "execute_result"
    }
   ],
   "source": [
    "covid_dataset.groupby('State/UnionTerritory')['Cured'].sum().sort_values().head(10)"
   ]
  },
  {
   "cell_type": "markdown",
   "metadata": {},
   "source": [
    "# 10. Top 10 states with highest number of Deaths from Feb,2021 to April,2021"
   ]
  },
  {
   "cell_type": "code",
   "execution_count": 41,
   "metadata": {},
   "outputs": [
    {
     "data": {
      "text/html": [
       "<div>\n",
       "<style scoped>\n",
       "    .dataframe tbody tr th:only-of-type {\n",
       "        vertical-align: middle;\n",
       "    }\n",
       "\n",
       "    .dataframe tbody tr th {\n",
       "        vertical-align: top;\n",
       "    }\n",
       "\n",
       "    .dataframe thead th {\n",
       "        text-align: right;\n",
       "    }\n",
       "</style>\n",
       "<table border=\"1\" class=\"dataframe\">\n",
       "  <thead>\n",
       "    <tr style=\"text-align: right;\">\n",
       "      <th></th>\n",
       "      <th>Deaths</th>\n",
       "    </tr>\n",
       "    <tr>\n",
       "      <th>State/UnionTerritory</th>\n",
       "      <th></th>\n",
       "    </tr>\n",
       "  </thead>\n",
       "  <tbody>\n",
       "    <tr>\n",
       "      <th>Maharashtra</th>\n",
       "      <td>4747625</td>\n",
       "    </tr>\n",
       "    <tr>\n",
       "      <th>Tamil Nadu</th>\n",
       "      <td>1102904</td>\n",
       "    </tr>\n",
       "    <tr>\n",
       "      <th>Karnataka</th>\n",
       "      <td>1099438</td>\n",
       "    </tr>\n",
       "    <tr>\n",
       "      <th>Delhi</th>\n",
       "      <td>981957</td>\n",
       "    </tr>\n",
       "    <tr>\n",
       "      <th>West Bengal</th>\n",
       "      <td>900629</td>\n",
       "    </tr>\n",
       "    <tr>\n",
       "      <th>Uttar Pradesh</th>\n",
       "      <td>785627</td>\n",
       "    </tr>\n",
       "    <tr>\n",
       "      <th>Andhra Pradesh</th>\n",
       "      <td>630190</td>\n",
       "    </tr>\n",
       "    <tr>\n",
       "      <th>Punjab</th>\n",
       "      <td>566259</td>\n",
       "    </tr>\n",
       "    <tr>\n",
       "      <th>Gujarat</th>\n",
       "      <td>406228</td>\n",
       "    </tr>\n",
       "    <tr>\n",
       "      <th>Kerala</th>\n",
       "      <td>383599</td>\n",
       "    </tr>\n",
       "  </tbody>\n",
       "</table>\n",
       "</div>"
      ],
      "text/plain": [
       "                       Deaths\n",
       "State/UnionTerritory         \n",
       "Maharashtra           4747625\n",
       "Tamil Nadu            1102904\n",
       "Karnataka             1099438\n",
       "Delhi                  981957\n",
       "West Bengal            900629\n",
       "Uttar Pradesh          785627\n",
       "Andhra Pradesh         630190\n",
       "Punjab                 566259\n",
       "Gujarat                406228\n",
       "Kerala                 383599"
      ]
     },
     "execution_count": 41,
     "metadata": {},
     "output_type": "execute_result"
    }
   ],
   "source": [
    "\n",
    "s=covid_dataset[(covid_dataset['year']==2021) & ((covid_dataset['month'] ==3) | (covid_dataset['month'] ==2) | (covid_dataset['month'] ==4))]\n",
    "z=s.groupby('State/UnionTerritory')['Deaths'].sum().sort_values(ascending=False).head(10)\n",
    "pd.DataFrame(z)"
   ]
  },
  {
   "cell_type": "markdown",
   "metadata": {},
   "source": [
    "# 11. Top 10 states with highest of Death percentage in October,2020"
   ]
  },
  {
   "cell_type": "code",
   "execution_count": 42,
   "metadata": {},
   "outputs": [
    {
     "data": {
      "text/html": [
       "<div>\n",
       "<style scoped>\n",
       "    .dataframe tbody tr th:only-of-type {\n",
       "        vertical-align: middle;\n",
       "    }\n",
       "\n",
       "    .dataframe tbody tr th {\n",
       "        vertical-align: top;\n",
       "    }\n",
       "\n",
       "    .dataframe thead th {\n",
       "        text-align: right;\n",
       "    }\n",
       "</style>\n",
       "<table border=\"1\" class=\"dataframe\">\n",
       "  <thead>\n",
       "    <tr style=\"text-align: right;\">\n",
       "      <th></th>\n",
       "      <th>Deaths</th>\n",
       "    </tr>\n",
       "    <tr>\n",
       "      <th>State/UnionTerritory</th>\n",
       "      <th></th>\n",
       "    </tr>\n",
       "  </thead>\n",
       "  <tbody>\n",
       "    <tr>\n",
       "      <th>Maharashtra</th>\n",
       "      <td>36.703884</td>\n",
       "    </tr>\n",
       "    <tr>\n",
       "      <th>Tamil Nadu</th>\n",
       "      <td>9.335019</td>\n",
       "    </tr>\n",
       "    <tr>\n",
       "      <th>Karnataka</th>\n",
       "      <td>9.125915</td>\n",
       "    </tr>\n",
       "    <tr>\n",
       "      <th>Uttar Pradesh</th>\n",
       "      <td>5.825779</td>\n",
       "    </tr>\n",
       "    <tr>\n",
       "      <th>Andhra Pradesh</th>\n",
       "      <td>5.659768</td>\n",
       "    </tr>\n",
       "    <tr>\n",
       "      <th>Delhi</th>\n",
       "      <td>5.299520</td>\n",
       "    </tr>\n",
       "    <tr>\n",
       "      <th>West Bengal</th>\n",
       "      <td>5.263281</td>\n",
       "    </tr>\n",
       "    <tr>\n",
       "      <th>Punjab</th>\n",
       "      <td>3.488445</td>\n",
       "    </tr>\n",
       "    <tr>\n",
       "      <th>Gujarat</th>\n",
       "      <td>3.225721</td>\n",
       "    </tr>\n",
       "    <tr>\n",
       "      <th>Madhya Pradesh</th>\n",
       "      <td>2.403275</td>\n",
       "    </tr>\n",
       "  </tbody>\n",
       "</table>\n",
       "</div>"
      ],
      "text/plain": [
       "                         Deaths\n",
       "State/UnionTerritory           \n",
       "Maharashtra           36.703884\n",
       "Tamil Nadu             9.335019\n",
       "Karnataka              9.125915\n",
       "Uttar Pradesh          5.825779\n",
       "Andhra Pradesh         5.659768\n",
       "Delhi                  5.299520\n",
       "West Bengal            5.263281\n",
       "Punjab                 3.488445\n",
       "Gujarat                3.225721\n",
       "Madhya Pradesh         2.403275"
      ]
     },
     "execution_count": 42,
     "metadata": {},
     "output_type": "execute_result"
    }
   ],
   "source": [
    "    z=covid_dataset[(covid_dataset['month']==10) & (covid_dataset['year']==2020)]\n",
    "    total_death=z['Deaths'].sum()\n",
    "    p=z.groupby('State/UnionTerritory')['Deaths'].sum()*100/total_death\n",
    "    pd.DataFrame(p.sort_values(ascending=False).head(10))"
   ]
  },
  {
   "cell_type": "markdown",
   "metadata": {},
   "source": [
    "# 12. Give Monthwise and yearwise record of\n",
    "Confirmed,     \n",
    "Cured,     \n",
    "Deaths,     \n",
    "Death_percentage"
   ]
  },
  {
   "cell_type": "code",
   "execution_count": 43,
   "metadata": {},
   "outputs": [],
   "source": [
    "total_death=covid_dataset['Deaths'].sum()\n",
    "covid_dataset['death%']=(covid_dataset['Deaths']/total_death)*100\n"
   ]
  },
  {
   "cell_type": "code",
   "execution_count": 44,
   "metadata": {},
   "outputs": [
    {
     "data": {
      "text/html": [
       "<div>\n",
       "<style scoped>\n",
       "    .dataframe tbody tr th:only-of-type {\n",
       "        vertical-align: middle;\n",
       "    }\n",
       "\n",
       "    .dataframe tbody tr th {\n",
       "        vertical-align: top;\n",
       "    }\n",
       "\n",
       "    .dataframe thead tr th {\n",
       "        text-align: left;\n",
       "    }\n",
       "\n",
       "    .dataframe thead tr:last-of-type th {\n",
       "        text-align: right;\n",
       "    }\n",
       "</style>\n",
       "<table border=\"1\" class=\"dataframe\">\n",
       "  <thead>\n",
       "    <tr>\n",
       "      <th></th>\n",
       "      <th></th>\n",
       "      <th colspan=\"4\" halign=\"left\">sum</th>\n",
       "    </tr>\n",
       "    <tr>\n",
       "      <th></th>\n",
       "      <th></th>\n",
       "      <th>Confirmed</th>\n",
       "      <th>Cured</th>\n",
       "      <th>Deaths</th>\n",
       "      <th>death%</th>\n",
       "    </tr>\n",
       "    <tr>\n",
       "      <th>month</th>\n",
       "      <th>year</th>\n",
       "      <th></th>\n",
       "      <th></th>\n",
       "      <th></th>\n",
       "      <th></th>\n",
       "    </tr>\n",
       "  </thead>\n",
       "  <tbody>\n",
       "    <tr>\n",
       "      <th rowspan=\"2\" valign=\"top\">1</th>\n",
       "      <th>2020</th>\n",
       "      <td>2</td>\n",
       "      <td>0</td>\n",
       "      <td>0</td>\n",
       "      <td>0.000000</td>\n",
       "    </tr>\n",
       "    <tr>\n",
       "      <th>2021</th>\n",
       "      <td>326469747</td>\n",
       "      <td>315332019</td>\n",
       "      <td>4709167</td>\n",
       "      <td>13.097938</td>\n",
       "    </tr>\n",
       "    <tr>\n",
       "      <th rowspan=\"2\" valign=\"top\">2</th>\n",
       "      <th>2020</th>\n",
       "      <td>86</td>\n",
       "      <td>0</td>\n",
       "      <td>0</td>\n",
       "      <td>0.000000</td>\n",
       "    </tr>\n",
       "    <tr>\n",
       "      <th>2021</th>\n",
       "      <td>305631803</td>\n",
       "      <td>297133802</td>\n",
       "      <td>4359434</td>\n",
       "      <td>12.125201</td>\n",
       "    </tr>\n",
       "    <tr>\n",
       "      <th rowspan=\"2\" valign=\"top\">3</th>\n",
       "      <th>2020</th>\n",
       "      <td>9687</td>\n",
       "      <td>808</td>\n",
       "      <td>202</td>\n",
       "      <td>0.000562</td>\n",
       "    </tr>\n",
       "    <tr>\n",
       "      <th>2021</th>\n",
       "      <td>356305616</td>\n",
       "      <td>342610397</td>\n",
       "      <td>4935253</td>\n",
       "      <td>13.726767</td>\n",
       "    </tr>\n",
       "    <tr>\n",
       "      <th rowspan=\"2\" valign=\"top\">4</th>\n",
       "      <th>2020</th>\n",
       "      <td>422442</td>\n",
       "      <td>75443</td>\n",
       "      <td>13270</td>\n",
       "      <td>0.036909</td>\n",
       "    </tr>\n",
       "    <tr>\n",
       "      <th>2021</th>\n",
       "      <td>403521171</td>\n",
       "      <td>354518894</td>\n",
       "      <td>4927136</td>\n",
       "      <td>13.704191</td>\n",
       "    </tr>\n",
       "    <tr>\n",
       "      <th>5</th>\n",
       "      <th>2020</th>\n",
       "      <td>2938234</td>\n",
       "      <td>1133341</td>\n",
       "      <td>89834</td>\n",
       "      <td>0.249862</td>\n",
       "    </tr>\n",
       "    <tr>\n",
       "      <th>6</th>\n",
       "      <th>2020</th>\n",
       "      <td>10558374</td>\n",
       "      <td>5668946</td>\n",
       "      <td>319690</td>\n",
       "      <td>0.889176</td>\n",
       "    </tr>\n",
       "    <tr>\n",
       "      <th>7</th>\n",
       "      <th>2020</th>\n",
       "      <td>31726501</td>\n",
       "      <td>19980130</td>\n",
       "      <td>793511</td>\n",
       "      <td>2.207048</td>\n",
       "    </tr>\n",
       "    <tr>\n",
       "      <th>8</th>\n",
       "      <th>2020</th>\n",
       "      <td>80749620</td>\n",
       "      <td>58580895</td>\n",
       "      <td>1553468</td>\n",
       "      <td>4.320770</td>\n",
       "    </tr>\n",
       "    <tr>\n",
       "      <th>9</th>\n",
       "      <th>2020</th>\n",
       "      <td>149113758</td>\n",
       "      <td>118592934</td>\n",
       "      <td>2443374</td>\n",
       "      <td>6.795928</td>\n",
       "    </tr>\n",
       "    <tr>\n",
       "      <th>10</th>\n",
       "      <th>2020</th>\n",
       "      <td>226770312</td>\n",
       "      <td>198824412</td>\n",
       "      <td>3457615</td>\n",
       "      <td>9.616908</td>\n",
       "    </tr>\n",
       "    <tr>\n",
       "      <th>11</th>\n",
       "      <th>2020</th>\n",
       "      <td>264556412</td>\n",
       "      <td>246213201</td>\n",
       "      <td>3894165</td>\n",
       "      <td>10.831116</td>\n",
       "    </tr>\n",
       "    <tr>\n",
       "      <th>12</th>\n",
       "      <th>2020</th>\n",
       "      <td>307177353</td>\n",
       "      <td>292244085</td>\n",
       "      <td>4457379</td>\n",
       "      <td>12.397623</td>\n",
       "    </tr>\n",
       "  </tbody>\n",
       "</table>\n",
       "</div>"
      ],
      "text/plain": [
       "                  sum                               \n",
       "            Confirmed      Cured   Deaths     death%\n",
       "month year                                          \n",
       "1     2020          2          0        0   0.000000\n",
       "      2021  326469747  315332019  4709167  13.097938\n",
       "2     2020         86          0        0   0.000000\n",
       "      2021  305631803  297133802  4359434  12.125201\n",
       "3     2020       9687        808      202   0.000562\n",
       "      2021  356305616  342610397  4935253  13.726767\n",
       "4     2020     422442      75443    13270   0.036909\n",
       "      2021  403521171  354518894  4927136  13.704191\n",
       "5     2020    2938234    1133341    89834   0.249862\n",
       "6     2020   10558374    5668946   319690   0.889176\n",
       "7     2020   31726501   19980130   793511   2.207048\n",
       "8     2020   80749620   58580895  1553468   4.320770\n",
       "9     2020  149113758  118592934  2443374   6.795928\n",
       "10    2020  226770312  198824412  3457615   9.616908\n",
       "11    2020  264556412  246213201  3894165  10.831116\n",
       "12    2020  307177353  292244085  4457379  12.397623"
      ]
     },
     "execution_count": 44,
     "metadata": {},
     "output_type": "execute_result"
    }
   ],
   "source": [
    "pd.pivot_table(covid_dataset,index=['month','year'],values=['Confirmed','Cured','Deaths','death%'],aggfunc=['sum'])\n"
   ]
  },
  {
   "cell_type": "code",
   "execution_count": 45,
   "metadata": {},
   "outputs": [],
   "source": [
    "covid_testing_statewise['error_in_sample']=covid_testing_statewise['TotalSamples']-(covid_testing_statewise['Negative']+covid_testing_statewise['Positive'])"
   ]
  },
  {
   "cell_type": "code",
   "execution_count": 46,
   "metadata": {},
   "outputs": [
    {
     "name": "stdout",
     "output_type": "stream",
     "text": [
      "Total Sample Collected = 43821627199\n",
      "Total Positice Case= 925225407\n",
      "Total Positice Case= 12007890714\n",
      "Total Sample with report = 12933116121\n",
      "Total Sample without report = 30888511078\n",
      "Total Sample without report % = 70.49 %\n",
      "Total Sample with report % = 29.51 %\n"
     ]
    }
   ],
   "source": [
    "z=covid_testing_statewise['TotalSamples'].sum()\n",
    "y=covid_testing_statewise['error_in_sample'].sum()\n",
    "p=covid_testing_statewise['Positive'].sum()\n",
    "n=covid_testing_statewise['Negative'].sum()\n",
    "print(f'Total Sample Collected = {z}')\n",
    "print(f'Total Positice Case= {p}')\n",
    "print(f'Total Positice Case= {n}')\n",
    "print(f'Total Sample with report = {p+n}')\n",
    "print(f'Total Sample without report = {z-(p+n)}')\n",
    "print(f'Total Sample without report % = {round(((y/z)*100),2)} %')\n",
    "print(f'Total Sample with report % = {round((((p+n)/z)*100),2)} %')"
   ]
  },
  {
   "cell_type": "code",
   "execution_count": 47,
   "metadata": {},
   "outputs": [
    {
     "data": {
      "text/plain": [
       "35695481994"
      ]
     },
     "execution_count": 47,
     "metadata": {},
     "output_type": "execute_result"
    }
   ],
   "source": [
    "43821627199-(278377828 + 7847767377)"
   ]
  },
  {
   "cell_type": "code",
   "execution_count": 48,
   "metadata": {},
   "outputs": [
    {
     "name": "stdout",
     "output_type": "stream",
     "text": [
      "Total Sample Collected = 43821627199\n",
      "Total Positice Case= 925225407\n",
      "Total Negative Case= 12007890714\n",
      "Total Sample with report = 12933116121\n",
      "Total Sample without report = 30888511078\n",
      "Total Sample without report % = 70.49 %\n",
      "Total Sample with report % = 29.51 %\n"
     ]
    }
   ],
   "source": [
    "z=covid_testing_statewise['TotalSamples'].sum()\n",
    "y=covid_testing_statewise['error_in_sample'].sum()\n",
    "p=covid_testing_statewise['Positive'].sum()\n",
    "n=covid_testing_statewise['Negative'].sum()\n",
    "print(f'Total Sample Collected = {z}')\n",
    "print(f'Total Positice Case= {p}')\n",
    "print(f'Total Negative Case= {n}')\n",
    "print(f'Total Sample with report = {p+n}')\n",
    "print(f'Total Sample without report = {z-(p+n)}')\n",
    "print(f'Total Sample without report % = {round(((y/z)*100),2)} %')\n",
    "print(f'Total Sample with report % = {round((((p+n)/z)*100),2)} %')"
   ]
  },
  {
   "cell_type": "code",
   "execution_count": 49,
   "metadata": {},
   "outputs": [
    {
     "data": {
      "text/plain": [
       "30888511078"
      ]
     },
     "execution_count": 49,
     "metadata": {},
     "output_type": "execute_result"
    }
   ],
   "source": [
    "43821627199 -(925225407+12007890714)"
   ]
  },
  {
   "cell_type": "code",
   "execution_count": 50,
   "metadata": {},
   "outputs": [
    {
     "data": {
      "text/plain": [
       "4806970916"
      ]
     },
     "execution_count": 50,
     "metadata": {},
     "output_type": "execute_result"
    }
   ],
   "source": [
    "35695481994 - 30888511078"
   ]
  },
  {
   "cell_type": "markdown",
   "metadata": {},
   "source": [
    "# 13. Plot the monthwise data and track increase in cases month by month."
   ]
  },
  {
   "cell_type": "code",
   "execution_count": 51,
   "metadata": {},
   "outputs": [
    {
     "data": {
      "text/plain": [
       "<AxesSubplot:xlabel='month', ylabel='Positive'>"
      ]
     },
     "execution_count": 51,
     "metadata": {},
     "output_type": "execute_result"
    },
    {
     "data": {
      "image/png": "[encoded data removed]",
      "text/plain": [
       "<Figure size 1296x432 with 1 Axes>"
      ]
     },
     "metadata": {
      "needs_background": "light"
     },
     "output_type": "display_data"
    }
   ],
   "source": [
    "plt.figure(figsize=(18,6))\n",
    "sns.barplot('month','Positive',data=covid_testing_statewise,hue='year',estimator=np.sum)"
   ]
  },
  {
   "cell_type": "code",
   "execution_count": 54,
   "metadata": {},
   "outputs": [
    {
     "data": {
      "text/plain": [
       "<AxesSubplot:xlabel='year,month'>"
      ]
     },
     "execution_count": 54,
     "metadata": {},
     "output_type": "execute_result"
    },
    {
     "data": {
      "image/png": "[encoded data removed]",
      "text/plain": [
       "<Figure size 864x432 with 1 Axes>"
      ]
     },
     "metadata": {
      "needs_background": "light"
     },
     "output_type": "display_data"
    }
   ],
   "source": [
    "covid_testing_statewise.groupby(['year','month'])['Positive'].sum().plot(kind='line', figsize=(12,6))"
   ]
  },
  {
   "cell_type": "code",
   "execution_count": 56,
   "metadata": {},
   "outputs": [
    {
     "data": {
      "text/plain": [
       "<AxesSubplot:xlabel='month'>"
      ]
     },
     "metadata": {},
     "output_type": "display_data"
    },
    {
     "data": {
      "text/html": [
       "<div>\n",
       "<style scoped>\n",
       "    .dataframe tbody tr th:only-of-type {\n",
       "        vertical-align: middle;\n",
       "    }\n",
       "\n",
       "    .dataframe tbody tr th {\n",
       "        vertical-align: top;\n",
       "    }\n",
       "\n",
       "    .dataframe thead tr th {\n",
       "        text-align: left;\n",
       "    }\n",
       "\n",
       "    .dataframe thead tr:last-of-type th {\n",
       "        text-align: right;\n",
       "    }\n",
       "</style>\n",
       "<table border=\"1\" class=\"dataframe\">\n",
       "  <thead>\n",
       "    <tr>\n",
       "      <th></th>\n",
       "      <th>sum</th>\n",
       "    </tr>\n",
       "    <tr>\n",
       "      <th></th>\n",
       "      <th>Positive</th>\n",
       "    </tr>\n",
       "    <tr>\n",
       "      <th>month</th>\n",
       "      <th></th>\n",
       "    </tr>\n",
       "  </thead>\n",
       "  <tbody>\n",
       "    <tr>\n",
       "      <th>1</th>\n",
       "      <td>14903616</td>\n",
       "    </tr>\n",
       "    <tr>\n",
       "      <th>2</th>\n",
       "      <td>15334888</td>\n",
       "    </tr>\n",
       "    <tr>\n",
       "      <th>3</th>\n",
       "      <td>15523698</td>\n",
       "    </tr>\n",
       "    <tr>\n",
       "      <th>4</th>\n",
       "      <td>15550534</td>\n",
       "    </tr>\n",
       "    <tr>\n",
       "      <th>5</th>\n",
       "      <td>17828939</td>\n",
       "    </tr>\n",
       "    <tr>\n",
       "      <th>6</th>\n",
       "      <td>23482675</td>\n",
       "    </tr>\n",
       "    <tr>\n",
       "      <th>7</th>\n",
       "      <td>39886025</td>\n",
       "    </tr>\n",
       "    <tr>\n",
       "      <th>8</th>\n",
       "      <td>57914686</td>\n",
       "    </tr>\n",
       "    <tr>\n",
       "      <th>9</th>\n",
       "      <td>72407072</td>\n",
       "    </tr>\n",
       "    <tr>\n",
       "      <th>11</th>\n",
       "      <td>76766182</td>\n",
       "    </tr>\n",
       "    <tr>\n",
       "      <th>10</th>\n",
       "      <td>82356847</td>\n",
       "    </tr>\n",
       "    <tr>\n",
       "      <th>12</th>\n",
       "      <td>87769604</td>\n",
       "    </tr>\n",
       "  </tbody>\n",
       "</table>\n",
       "</div>"
      ],
      "text/plain": [
       "            sum\n",
       "       Positive\n",
       "month          \n",
       "1      14903616\n",
       "2      15334888\n",
       "3      15523698\n",
       "4      15550534\n",
       "5      17828939\n",
       "6      23482675\n",
       "7      39886025\n",
       "8      57914686\n",
       "9      72407072\n",
       "11     76766182\n",
       "10     82356847\n",
       "12     87769604"
      ]
     },
     "metadata": {},
     "output_type": "display_data"
    },
    {
     "data": {
      "image/png": "[encoded data removed]",
      "text/plain": [
       "<Figure size 864x432 with 1 Axes>"
      ]
     },
     "metadata": {
      "needs_background": "light"
     },
     "output_type": "display_data"
    }
   ],
   "source": [
    "z=pd.pivot_table(covid_testing_statewise[covid_testing_statewise['year']==2020],index=['month'],values=['Positive'],aggfunc=['sum'])\n",
    "display(z.sort_values([('sum', 'Positive')]).plot(kind='line',figsize=(12,6)))\n",
    "display(z.sort_values([('sum', 'Positive')]))\n"
   ]
  },
  {
   "cell_type": "code",
   "execution_count": 57,
   "metadata": {},
   "outputs": [
    {
     "data": {
      "text/plain": [
       "<AxesSubplot:xlabel='month'>"
      ]
     },
     "metadata": {},
     "output_type": "display_data"
    },
    {
     "data": {
      "text/html": [
       "<div>\n",
       "<style scoped>\n",
       "    .dataframe tbody tr th:only-of-type {\n",
       "        vertical-align: middle;\n",
       "    }\n",
       "\n",
       "    .dataframe tbody tr th {\n",
       "        vertical-align: top;\n",
       "    }\n",
       "\n",
       "    .dataframe thead tr th {\n",
       "        text-align: left;\n",
       "    }\n",
       "\n",
       "    .dataframe thead tr:last-of-type th {\n",
       "        text-align: right;\n",
       "    }\n",
       "</style>\n",
       "<table border=\"1\" class=\"dataframe\">\n",
       "  <thead>\n",
       "    <tr>\n",
       "      <th></th>\n",
       "      <th>sum</th>\n",
       "    </tr>\n",
       "    <tr>\n",
       "      <th></th>\n",
       "      <th>Positive</th>\n",
       "    </tr>\n",
       "    <tr>\n",
       "      <th>month</th>\n",
       "      <th></th>\n",
       "    </tr>\n",
       "  </thead>\n",
       "  <tbody>\n",
       "    <tr>\n",
       "      <th>1</th>\n",
       "      <td>86776929</td>\n",
       "    </tr>\n",
       "    <tr>\n",
       "      <th>2</th>\n",
       "      <td>65380203</td>\n",
       "    </tr>\n",
       "    <tr>\n",
       "      <th>3</th>\n",
       "      <td>74698476</td>\n",
       "    </tr>\n",
       "    <tr>\n",
       "      <th>4</th>\n",
       "      <td>69310178</td>\n",
       "    </tr>\n",
       "    <tr>\n",
       "      <th>5</th>\n",
       "      <td>13846363</td>\n",
       "    </tr>\n",
       "    <tr>\n",
       "      <th>6</th>\n",
       "      <td>13551091</td>\n",
       "    </tr>\n",
       "    <tr>\n",
       "      <th>7</th>\n",
       "      <td>13523133</td>\n",
       "    </tr>\n",
       "    <tr>\n",
       "      <th>8</th>\n",
       "      <td>13110116</td>\n",
       "    </tr>\n",
       "    <tr>\n",
       "      <th>9</th>\n",
       "      <td>13565450</td>\n",
       "    </tr>\n",
       "    <tr>\n",
       "      <th>10</th>\n",
       "      <td>13616911</td>\n",
       "    </tr>\n",
       "    <tr>\n",
       "      <th>11</th>\n",
       "      <td>14062602</td>\n",
       "    </tr>\n",
       "    <tr>\n",
       "      <th>12</th>\n",
       "      <td>14059189</td>\n",
       "    </tr>\n",
       "  </tbody>\n",
       "</table>\n",
       "</div>"
      ],
      "text/plain": [
       "            sum\n",
       "       Positive\n",
       "month          \n",
       "1      86776929\n",
       "2      65380203\n",
       "3      74698476\n",
       "4      69310178\n",
       "5      13846363\n",
       "6      13551091\n",
       "7      13523133\n",
       "8      13110116\n",
       "9      13565450\n",
       "10     13616911\n",
       "11     14062602\n",
       "12     14059189"
      ]
     },
     "metadata": {},
     "output_type": "display_data"
    },
    {
     "data": {
      "image/png": "[encoded data removed]",
      "text/plain": [
       "<Figure size 864x432 with 1 Axes>"
      ]
     },
     "metadata": {
      "needs_background": "light"
     },
     "output_type": "display_data"
    }
   ],
   "source": [
    "z=pd.pivot_table(covid_testing_statewise[covid_testing_statewise['year']==2021],index=['month'],values=['Positive'],aggfunc=['sum'])\n",
    "z.keys()\n",
    "display(z.plot(kind='line',figsize=(12,6)))\n",
    "display(z)"
   ]
  },
  {
   "cell_type": "markdown",
   "metadata": {},
   "source": [
    "# 14. Which state had the highes positive percentage in April, 2021, Jan,2021 and August,2020."
   ]
  },
  {
   "cell_type": "code",
   "execution_count": 67,
   "metadata": {},
   "outputs": [
    {
     "data": {
      "text/plain": [
       "State\n",
       "Andhra Pradesh       26.458397\n",
       "Madhya Pradesh       14.522400\n",
       "Maharashtra          13.484236\n",
       "Kerala                7.867801\n",
       "Jharkhand             4.492088\n",
       "Haryana               4.220178\n",
       "Jammu and Kashmir     4.006443\n",
       "Uttarakhand           3.438512\n",
       "Rajasthan             2.784969\n",
       "Tamil Nadu            2.593571\n",
       "Name: Positive_case%, dtype: float64"
      ]
     },
     "execution_count": 67,
     "metadata": {},
     "output_type": "execute_result"
    }
   ],
   "source": [
    "        k=covid_testing_statewise[(covid_testing_statewise['month']==4) & (covid_testing_statewise['year']==2021)]\n",
    "        total_case=k['Positive'].sum()\n",
    "        k['Positive_case%']=(k['Positive']/total_case)*100\n",
    "        k.groupby('State')['Positive_case%'].sum().sort_values(ascending=False).head(10)\n"
   ]
  },
  {
   "cell_type": "code",
   "execution_count": 68,
   "metadata": {},
   "outputs": [
    {
     "data": {
      "text/plain": [
       "State\n",
       "Kerala               21.755687\n",
       "Andhra Pradesh       20.900698\n",
       "Maharashtra          13.037470\n",
       "Madhya Pradesh       10.187250\n",
       "Haryana               7.025246\n",
       "Jammu and Kashmir     3.290632\n",
       "Jharkhand             3.000837\n",
       "Rajasthan             2.692696\n",
       "Uttarakhand           2.531090\n",
       "Tamil Nadu            2.507640\n",
       "Name: Positive_case%, dtype: float64"
      ]
     },
     "execution_count": 68,
     "metadata": {},
     "output_type": "execute_result"
    }
   ],
   "source": [
    "k=covid_testing_statewise[(covid_testing_statewise['month']==1) & (covid_testing_statewise['year']==2021)]\n",
    "total_case=k['Positive'].sum()\n",
    "k['Positive_case%']=(k['Positive']/total_case)*100\n",
    "k.groupby('State')['Positive_case%'].sum().sort_values(ascending=False).head(10)"
   ]
  },
  {
   "cell_type": "code",
   "execution_count": 308,
   "metadata": {},
   "outputs": [
    {
     "data": {
      "text/plain": [
       "State\n",
       "Maharashtra       29.895761\n",
       "Andhra Pradesh    16.268968\n",
       "Tamil Nadu         8.413085\n",
       "Kerala             4.490521\n",
       "Rajasthan          3.788056\n",
       "Telangana          3.742797\n",
       "Gujarat            3.473917\n",
       "Karnataka          3.417760\n",
       "Madhya Pradesh     3.390803\n",
       "Haryana            3.151256\n",
       "Name: Positive_case%, dtype: float64"
      ]
     },
     "execution_count": 308,
     "metadata": {},
     "output_type": "execute_result"
    }
   ],
   "source": [
    "k=covid_testing_statewise[(covid_testing_statewise['month']=='August') & (covid_testing_statewise['year']==2020)]\n",
    "total_case=k['Positive'].sum()\n",
    "k['Positive_case%']=(k['Positive']/total_case)*100\n",
    "k.groupby('State')['Positive_case%'].sum().sort_values(ascending=False).head(10)"
   ]
  },
  {
   "cell_type": "code",
   "execution_count": 69,
   "metadata": {},
   "outputs": [
    {
     "data": {
      "text/plain": [
       "State\n",
       "Andhra Pradesh       21.447235\n",
       "Maharashtra          17.744477\n",
       "Kerala               12.585303\n",
       "Madhya Pradesh        9.752001\n",
       "Haryana               5.068344\n",
       "Tamil Nadu            4.133645\n",
       "Jharkhand             3.113888\n",
       "Jammu and Kashmir     3.094003\n",
       "Rajasthan             3.019015\n",
       "Uttarakhand           2.557216\n",
       "Name: Positive_case%, dtype: float64"
      ]
     },
     "execution_count": 69,
     "metadata": {},
     "output_type": "execute_result"
    }
   ],
   "source": [
    "k=covid_testing_statewise[(((covid_testing_statewise['month']==4) | (covid_testing_statewise['month']==1)) & (covid_testing_statewise['year']==2021)) | (covid_testing_statewise['month']==8) & (covid_testing_statewise['year']==2020)]\n",
    "total_case=k['Positive'].sum()\n",
    "k['Positive_case%']=(k['Positive']/total_case)*100\n",
    "k.groupby('State')['Positive_case%'].sum().sort_values(ascending=False).head(10)"
   ]
  },
  {
   "cell_type": "markdown",
   "metadata": {},
   "source": [
    "# 15. Top 10 states with highest number of Negative cases"
   ]
  },
  {
   "cell_type": "code",
   "execution_count": 70,
   "metadata": {},
   "outputs": [
    {
     "data": {
      "text/plain": [
       "State\n",
       "Andhra Pradesh       2.385766e+09\n",
       "Kerala               1.063903e+09\n",
       "Jharkhand            1.034015e+09\n",
       "Madhya Pradesh       1.030256e+09\n",
       "Jammu and Kashmir    9.284786e+08\n",
       "Haryana              8.125474e+08\n",
       "Rajasthan            7.804233e+08\n",
       "Maharashtra          7.726811e+08\n",
       "Uttarakhand          4.089374e+08\n",
       "Tamil Nadu           4.072111e+08\n",
       "Name: Negative, dtype: float64"
      ]
     },
     "execution_count": 70,
     "metadata": {},
     "output_type": "execute_result"
    }
   ],
   "source": [
    "covid_testing_statewise.groupby('State')['Negative'].sum().sort_values(ascending=False).head(10)"
   ]
  },
  {
   "cell_type": "markdown",
   "metadata": {},
   "source": [
    "# 16. Total Individuals Registering for vaccines since Jan,2021."
   ]
  },
  {
   "cell_type": "code",
   "execution_count": 71,
   "metadata": {},
   "outputs": [
    {
     "name": "stdout",
     "output_type": "stream",
     "text": [
      "Total Individuals Registering for vaccines since Jan,2021 = 8375457638.0\n"
     ]
    }
   ],
   "source": [
    "f=covid_vaccine_statewise['Total Individuals Registered'][covid_vaccine_statewise['year']==2021].sum()\n",
    "print(f'Total Individuals Registering for vaccines since Jan,2021 = {f}')"
   ]
  },
  {
   "cell_type": "markdown",
   "metadata": {},
   "source": [
    "# 17. Male vs Female vaccinated in India till now. Which is more"
   ]
  },
  {
   "cell_type": "code",
   "execution_count": 73,
   "metadata": {},
   "outputs": [
    {
     "name": "stdout",
     "output_type": "stream",
     "text": [
      "Total Male Vaccinated = 3807194938.0\n",
      "Total Male Vaccinated = 3479241022.0\n",
      "Males are more vaccinated by the number : 327953916.0\n"
     ]
    }
   ],
   "source": [
    "male=covid_vaccine_statewise['Male(Individuals Vaccinated)'].sum()\n",
    "female=covid_vaccine_statewise['Female(Individuals Vaccinated)'].sum()\n",
    "print(f'Total Male Vaccinated = {male}')\n",
    "print(f'Total Male Vaccinated = {female}')\n",
    "print(f'Males are more vaccinated by the number : {male-female}')"
   ]
  },
  {
   "cell_type": "markdown",
   "metadata": {},
   "source": [
    "# 18. Is positivity rate high in Males than females in 2021? Is that same trend there in 2020."
   ]
  },
  {
   "cell_type": "code",
   "execution_count": null,
   "metadata": {},
   "outputs": [],
   "source": []
  },
  {
   "cell_type": "markdown",
   "metadata": {},
   "source": [
    "# 19. Which vaccines is popular in Males,Females and Transgeneders."
   ]
  },
  {
   "cell_type": "markdown",
   "metadata": {},
   "source": [
    "# 20. Registered vs actual vaccination doses admnistered till now, what are the top 10 states?"
   ]
  },
  {
   "cell_type": "code",
   "execution_count": 74,
   "metadata": {},
   "outputs": [
    {
     "name": "stdout",
     "output_type": "stream",
     "text": [
      "Total Registration = 8375457638.0\n",
      "Total Vaccinated = 7287252216.0\n",
      "People left for vaccination= 1088205422.0\n"
     ]
    }
   ],
   "source": [
    "z=covid_vaccine_statewise['Total Individuals Registered'].sum()\n",
    "y=covid_vaccine_statewise['Total Individuals Vaccinated'].sum()\n",
    "print(f'Total Registration = {z}')\n",
    "print(f'Total Vaccinated = {y}')\n",
    "print(f'People left for vaccination= {z-y}')"
   ]
  },
  {
   "cell_type": "code",
   "execution_count": 75,
   "metadata": {},
   "outputs": [
    {
     "data": {
      "text/plain": [
       "State\n",
       "India             4.189774e+09\n",
       "Maharashtra       4.236824e+08\n",
       "Uttar Pradesh     3.708198e+08\n",
       "Rajasthan         3.563305e+08\n",
       "West Bengal       3.522139e+08\n",
       "Gujarat           3.379845e+08\n",
       "Karnataka         2.494851e+08\n",
       "Madhya Pradesh    2.263818e+08\n",
       "Kerala            1.987850e+08\n",
       "Bihar             1.863710e+08\n",
       "Name: Total Individuals Registered, dtype: float64"
      ]
     },
     "execution_count": 75,
     "metadata": {},
     "output_type": "execute_result"
    }
   ],
   "source": [
    "covid_vaccine_statewise.groupby('State')['Total Individuals Registered'].sum().sort_values(ascending=False).head(10)\n"
   ]
  },
  {
   "cell_type": "code",
   "execution_count": 76,
   "metadata": {},
   "outputs": [
    {
     "data": {
      "text/plain": [
       "State\n",
       "India             3.645571e+09\n",
       "Maharashtra       3.579542e+08\n",
       "Rajasthan         3.374792e+08\n",
       "Uttar Pradesh     3.272166e+08\n",
       "Gujarat           3.193267e+08\n",
       "West Bengal       2.840616e+08\n",
       "Karnataka         2.214413e+08\n",
       "Madhya Pradesh    2.120819e+08\n",
       "Kerala            1.719564e+08\n",
       "Bihar             1.694660e+08\n",
       "Name: Total Individuals Vaccinated, dtype: float64"
      ]
     },
     "execution_count": 76,
     "metadata": {},
     "output_type": "execute_result"
    }
   ],
   "source": [
    "covid_vaccine_statewise.groupby('State')['Total Individuals Vaccinated'].sum().sort_values(ascending=False).head(10)\n"
   ]
  },
  {
   "cell_type": "code",
   "execution_count": 77,
   "metadata": {},
   "outputs": [
    {
     "data": {
      "text/plain": [
       "State\n",
       "India             544203336.0\n",
       "West Bengal        68152319.0\n",
       "Maharashtra        65728205.0\n",
       "Uttar Pradesh      43603205.0\n",
       "Tamil Nadu         34268661.0\n",
       "Andhra Pradesh     32352518.0\n",
       "Karnataka          28043776.0\n",
       "Kerala             26828677.0\n",
       "Telangana          25063201.0\n",
       "Delhi              19728532.0\n",
       "dtype: float64"
      ]
     },
     "execution_count": 77,
     "metadata": {},
     "output_type": "execute_result"
    }
   ],
   "source": [
    "z=covid_vaccine_statewise.groupby('State')['Total Individuals Registered'].sum().sort_values(ascending=False)\n",
    "y=covid_vaccine_statewise.groupby('State')['Total Individuals Vaccinated'].sum().sort_values(ascending=False)\n",
    "\n",
    "(z-y).sort_values(ascending=False).head(10)"
   ]
  },
  {
   "cell_type": "markdown",
   "metadata": {},
   "source": [
    "# 21. How many % of people are left to get second dosage of vaccine."
   ]
  },
  {
   "cell_type": "code",
   "execution_count": 78,
   "metadata": {},
   "outputs": [
    {
     "name": "stdout",
     "output_type": "stream",
     "text": [
      "People left for Second Dose = 6104147521.0\n"
     ]
    }
   ],
   "source": [
    "z=covid_vaccine_statewise['First Dose Administered']- covid_vaccine_statewise['Second Dose Administered']\n",
    "print('People left for Second Dose =',z.sum())"
   ]
  },
  {
   "cell_type": "markdown",
   "metadata": {},
   "source": [
    "# 22. What is the trend that you can see in delhi since Jan, 2021?\n",
    "Positivity rate, \n",
    "Total Deaths, \n",
    "Vaccination"
   ]
  },
  {
   "cell_type": "code",
   "execution_count": 79,
   "metadata": {},
   "outputs": [
    {
     "name": "stdout",
     "output_type": "stream",
     "text": [
      "month\n",
      "1    332233\n",
      "2    304835\n",
      "3    339395\n",
      "4    337727\n",
      "Name: Deaths, dtype: int64\n"
     ]
    },
    {
     "data": {
      "text/plain": [
       "<AxesSubplot:xlabel='month'>"
      ]
     },
     "metadata": {},
     "output_type": "display_data"
    },
    {
     "data": {
      "image/png": "[encoded data removed]",
      "text/plain": [
       "<Figure size 432x288 with 1 Axes>"
      ]
     },
     "metadata": {
      "needs_background": "light"
     },
     "output_type": "display_data"
    }
   ],
   "source": [
    "z=covid_dataset[(covid_dataset['State/UnionTerritory']=='Delhi') & (covid_dataset['year']==2021)]\n",
    "print(z.groupby('month')['Deaths'].sum())\n",
    "display(z.groupby('month')['Deaths'].sum().plot(kind='line'))"
   ]
  },
  {
   "cell_type": "code",
   "execution_count": 80,
   "metadata": {},
   "outputs": [
    {
     "name": "stdout",
     "output_type": "stream",
     "text": [
      "month\n",
      "1      1439091.0\n",
      "2      5745838.0\n",
      "3     12711490.0\n",
      "4     35210405.0\n",
      "5      1855839.0\n",
      "6      1920428.0\n",
      "7      1993565.0\n",
      "8      2113117.0\n",
      "9      2186203.0\n",
      "10     2303473.0\n",
      "11     2404789.0\n",
      "12     2504512.0\n",
      "Name: Total Individuals Vaccinated, dtype: float64\n"
     ]
    },
    {
     "data": {
      "text/plain": [
       "<AxesSubplot:xlabel='month'>"
      ]
     },
     "metadata": {},
     "output_type": "display_data"
    },
    {
     "data": {
      "image/png": "[encoded data removed]",
      "text/plain": [
       "<Figure size 432x288 with 1 Axes>"
      ]
     },
     "metadata": {
      "needs_background": "light"
     },
     "output_type": "display_data"
    }
   ],
   "source": [
    "z=covid_vaccine_statewise[(covid_vaccine_statewise['State']=='Delhi') & (covid_vaccine_statewise['year']==2021)]\n",
    "print(z.groupby('month')['Total Individuals Vaccinated'].sum())\n",
    "display(z.groupby('month')['Total Individuals Vaccinated'].sum().plot(kind='line'))"
   ]
  },
  {
   "cell_type": "code",
   "execution_count": 81,
   "metadata": {},
   "outputs": [
    {
     "name": "stdout",
     "output_type": "stream",
     "text": [
      "month\n",
      "1     1280548\n",
      "2     1113520\n",
      "3     1280548\n",
      "4     1057844\n",
      "5      222704\n",
      "6      222704\n",
      "7      222704\n",
      "8      222704\n",
      "9      222704\n",
      "10     222704\n",
      "11     222704\n",
      "12     222704\n",
      "Name: Positive, dtype: int32\n"
     ]
    },
    {
     "data": {
      "text/plain": [
       "<AxesSubplot:xlabel='month'>"
      ]
     },
     "metadata": {},
     "output_type": "display_data"
    },
    {
     "data": {
      "image/png": "[encoded data removed]",
      "text/plain": [
       "<Figure size 432x288 with 1 Axes>"
      ]
     },
     "metadata": {
      "needs_background": "light"
     },
     "output_type": "display_data"
    }
   ],
   "source": [
    "z=covid_testing_statewise[(covid_testing_statewise['State']=='Delhi') & (covid_testing_statewise['year']==2021)]\n",
    "print(z.groupby('month')['Positive'].sum())\n",
    "display(z.groupby('month')['Positive'].sum().plot(kind='line'))"
   ]
  },
  {
   "cell_type": "markdown",
   "metadata": {},
   "source": [
    "# 23. Plot daily number of confirmed cases for Delhi in 2021"
   ]
  },
  {
   "cell_type": "code",
   "execution_count": 82,
   "metadata": {},
   "outputs": [
    {
     "data": {
      "text/plain": [
       "<AxesSubplot:xlabel='Date'>"
      ]
     },
     "execution_count": 82,
     "metadata": {},
     "output_type": "execute_result"
    },
    {
     "data": {
      "image/png": "[encoded data removed]",
      "text/plain": [
       "<Figure size 432x288 with 1 Axes>"
      ]
     },
     "metadata": {
      "needs_background": "light"
     },
     "output_type": "display_data"
    }
   ],
   "source": [
    "z=covid_dataset[(covid_dataset['State/UnionTerritory']=='Delhi') & (covid_dataset['year']==2021)]\n",
    "z.groupby(['Date'])['Confirmed'].sum().plot(kind='line')"
   ]
  },
  {
   "cell_type": "code",
   "execution_count": null,
   "metadata": {},
   "outputs": [],
   "source": []
  }
 ],
 "metadata": {
  "kernelspec": {
   "display_name": "Python 3",
   "language": "python",
   "name": "python3"
  },
  "language_info": {
   "codemirror_mode": {
    "name": "ipython",
    "version": 3
   },
   "file_extension": ".py",
   "mimetype": "text/x-python",
   "name": "python",
   "nbconvert_exporter": "python",
   "pygments_lexer": "ipython3",
   "version": "3.8.5"
  }
 },
 "nbformat": 4,
 "nbformat_minor": 4
}
